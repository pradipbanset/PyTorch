{
 "cells": [
  {
   "cell_type": "markdown",
   "id": "a18e46ae",
   "metadata": {},
   "source": [
    "**Pytorch Workflow**"
   ]
  },
  {
   "cell_type": "code",
   "execution_count": 284,
   "id": "058a8af1",
   "metadata": {},
   "outputs": [],
   "source": [
    "import torch\n",
    "from torch import nn  #contains all of the pytorch building blocks for neural nets\n",
    "import matplotlib.pyplot as plt \n"
   ]
  },
  {
   "cell_type": "markdown",
   "id": "0827c0f3",
   "metadata": {},
   "source": [
    "**Data Preaparing and Loading**"
   ]
  },
  {
   "cell_type": "code",
   "execution_count": 285,
   "id": "2061c1de",
   "metadata": {},
   "outputs": [
    {
     "data": {
      "text/plain": [
       "(tensor([[0.0000],\n",
       "         [0.0200],\n",
       "         [0.0400],\n",
       "         [0.0600],\n",
       "         [0.0800],\n",
       "         [0.1000],\n",
       "         [0.1200],\n",
       "         [0.1400],\n",
       "         [0.1600],\n",
       "         [0.1800]]),\n",
       " tensor([[0.3000],\n",
       "         [0.3140],\n",
       "         [0.3280],\n",
       "         [0.3420],\n",
       "         [0.3560],\n",
       "         [0.3700],\n",
       "         [0.3840],\n",
       "         [0.3980],\n",
       "         [0.4120],\n",
       "         [0.4260]]))"
      ]
     },
     "execution_count": 285,
     "metadata": {},
     "output_type": "execute_result"
    }
   ],
   "source": [
    "#creating a simple dataset using the linear regression formula\n",
    "\n",
    "weight = 0.7\n",
    "bias = 0.3\n",
    "\n",
    "X = torch.arange(start=0, end=1, step=0.02).unsqueeze(dim=1) #unsqueeze adds an extra dimension to the tensor\n",
    "y = weight * X + bias\n",
    "\n",
    "X[:10], y[:10]"
   ]
  },
  {
   "cell_type": "code",
   "execution_count": 286,
   "id": "fa1e00fd",
   "metadata": {},
   "outputs": [
    {
     "data": {
      "text/plain": [
       "(50, 50)"
      ]
     },
     "execution_count": 286,
     "metadata": {},
     "output_type": "execute_result"
    }
   ],
   "source": [
    "len(X), len(y)"
   ]
  },
  {
   "cell_type": "code",
   "execution_count": null,
   "id": "5052dfc7",
   "metadata": {},
   "outputs": [],
   "source": []
  },
  {
   "cell_type": "markdown",
   "id": "4c929ada",
   "metadata": {},
   "source": [
    "**splitting our data into trainig and test sets**"
   ]
  },
  {
   "cell_type": "code",
   "execution_count": 287,
   "id": "4f737011",
   "metadata": {},
   "outputs": [
    {
     "data": {
      "text/plain": [
       "(40, 40, 10, 10)"
      ]
     },
     "execution_count": 287,
     "metadata": {},
     "output_type": "execute_result"
    }
   ],
   "source": [
    "#creata a train and test split\n",
    "train_split = int(0.8 * len(X))  #80% of the data for training\n",
    "\n",
    "X_train, y_train = X[:train_split], y[:train_split]\n",
    "X_test, y_test = X[train_split:], y[train_split:]\n",
    "\n",
    "len(X_train), len(y_train), len(X_test), len(y_test)"
   ]
  },
  {
   "cell_type": "code",
   "execution_count": 288,
   "id": "d57e6f04",
   "metadata": {},
   "outputs": [
    {
     "data": {
      "text/plain": [
       "(tensor([[0.0000],\n",
       "         [0.0200],\n",
       "         [0.0400],\n",
       "         [0.0600],\n",
       "         [0.0800],\n",
       "         [0.1000],\n",
       "         [0.1200],\n",
       "         [0.1400],\n",
       "         [0.1600],\n",
       "         [0.1800],\n",
       "         [0.2000],\n",
       "         [0.2200],\n",
       "         [0.2400],\n",
       "         [0.2600],\n",
       "         [0.2800],\n",
       "         [0.3000],\n",
       "         [0.3200],\n",
       "         [0.3400],\n",
       "         [0.3600],\n",
       "         [0.3800],\n",
       "         [0.4000],\n",
       "         [0.4200],\n",
       "         [0.4400],\n",
       "         [0.4600],\n",
       "         [0.4800],\n",
       "         [0.5000],\n",
       "         [0.5200],\n",
       "         [0.5400],\n",
       "         [0.5600],\n",
       "         [0.5800],\n",
       "         [0.6000],\n",
       "         [0.6200],\n",
       "         [0.6400],\n",
       "         [0.6600],\n",
       "         [0.6800],\n",
       "         [0.7000],\n",
       "         [0.7200],\n",
       "         [0.7400],\n",
       "         [0.7600],\n",
       "         [0.7800]]),\n",
       " tensor([[0.3000],\n",
       "         [0.3140],\n",
       "         [0.3280],\n",
       "         [0.3420],\n",
       "         [0.3560],\n",
       "         [0.3700],\n",
       "         [0.3840],\n",
       "         [0.3980],\n",
       "         [0.4120],\n",
       "         [0.4260],\n",
       "         [0.4400],\n",
       "         [0.4540],\n",
       "         [0.4680],\n",
       "         [0.4820],\n",
       "         [0.4960],\n",
       "         [0.5100],\n",
       "         [0.5240],\n",
       "         [0.5380],\n",
       "         [0.5520],\n",
       "         [0.5660],\n",
       "         [0.5800],\n",
       "         [0.5940],\n",
       "         [0.6080],\n",
       "         [0.6220],\n",
       "         [0.6360],\n",
       "         [0.6500],\n",
       "         [0.6640],\n",
       "         [0.6780],\n",
       "         [0.6920],\n",
       "         [0.7060],\n",
       "         [0.7200],\n",
       "         [0.7340],\n",
       "         [0.7480],\n",
       "         [0.7620],\n",
       "         [0.7760],\n",
       "         [0.7900],\n",
       "         [0.8040],\n",
       "         [0.8180],\n",
       "         [0.8320],\n",
       "         [0.8460]]))"
      ]
     },
     "execution_count": 288,
     "metadata": {},
     "output_type": "execute_result"
    }
   ],
   "source": [
    "X_train, y_train"
   ]
  },
  {
   "cell_type": "code",
   "execution_count": 289,
   "id": "45546a19",
   "metadata": {},
   "outputs": [
    {
     "data": {
      "image/png": "[encoded data removed]",
      "text/plain": [
       "<Figure size 1000x700 with 1 Axes>"
      ]
     },
     "metadata": {},
     "output_type": "display_data"
    }
   ],
   "source": [
    "def plot_predictions(train_data=X_train,train_labels=y_train, test_data=X_test, test_labels=y_test, predictions=None):\n",
    "    \"\"\"plot training data, test data and compare predictions\"\"\"\n",
    "\n",
    "    plt.figure(figsize=(10,7))\n",
    "\n",
    "    #plot training data in blue\n",
    "    plt.scatter(train_data, train_labels, c=\"b\", s=4, label=\"Training data\")\n",
    "    \n",
    "    #plot test data in green\n",
    "    plt.scatter(test_data, test_labels, c=\"y\", s=4, label=\"Test data\")\n",
    "     \n",
    "    #are there predictions\n",
    "    if predictions is not None:\n",
    "        #plot the predictions if they exist\n",
    "        plt.scatter(test_data, predictions, c=\"r\", s=4, label=\"Predictions\")  \n",
    "    plt.legend(prop={\"size\":14})  \n",
    "    \n",
    "plot_predictions()"
   ]
  },
  {
   "cell_type": "code",
   "execution_count": 290,
   "id": "c1e5b684",
   "metadata": {},
   "outputs": [],
   "source": [
    "#building a model\n",
    "\n",
    "#create linera regression model class\n",
    "\n",
    "from torch import nn\n",
    "\n",
    "class LinearRegression(nn.Module):  #almost everything in pytorch is a subclass of nn.Module\n",
    "     \n",
    "    def __init__(self): \n",
    "        super().__init__() #initializing the parent class nn.Module or initializes nn.Module\n",
    "\n",
    "        self.weights = nn.Parameter(torch.rand(1,\n",
    "        requires_grad=True,\n",
    "        dtype=torch.float))\n",
    "\n",
    "        self.bias = nn.Parameter(torch.rand(1,\n",
    "        requires_grad=True,\n",
    "        dtype=torch.float))\n",
    "\n",
    "        #forward method to define the forward pass or computation in the model\n",
    "    def forward(self, x: torch.Tensor) -> torch.Tensor:\n",
    "        return self.weights * x + self.bias"
   ]
  },
  {
   "cell_type": "markdown",
   "id": "4386d40e",
   "metadata": {},
   "source": [
    "**Pytorch Model Building essentials**\n",
    "torch.nn\n",
    "torch.nn.parameter\n",
    "torch.nn.Module\n",
    "torch.optim\n",
    "def forward"
   ]
  },
  {
   "cell_type": "code",
   "execution_count": 291,
   "id": "0c084d4f",
   "metadata": {},
   "outputs": [
    {
     "data": {
      "text/plain": [
       "[Parameter containing:\n",
       " tensor([0.8823], requires_grad=True),\n",
       " Parameter containing:\n",
       " tensor([0.9150], requires_grad=True)]"
      ]
     },
     "execution_count": 291,
     "metadata": {},
     "output_type": "execute_result"
    }
   ],
   "source": [
    "#checking the contents of our model\n",
    "torch.manual_seed(42)\n",
    "\n",
    "#instance of the model \n",
    "model_0  = LinearRegression()\n",
    "#model_0\n",
    "list(model_0.parameters())  "
   ]
  },
  {
   "cell_type": "code",
   "execution_count": 292,
   "id": "138b95c7",
   "metadata": {},
   "outputs": [
    {
     "data": {
      "text/plain": [
       "OrderedDict([('weights', tensor([0.8823])), ('bias', tensor([0.9150]))])"
      ]
     },
     "execution_count": 292,
     "metadata": {},
     "output_type": "execute_result"
    }
   ],
   "source": [
    "model_0.state_dict()  #state_dict is a dictionary that contains all the parameters of the model"
   ]
  },
  {
   "cell_type": "code",
   "execution_count": 293,
   "id": "09a9c4ec",
   "metadata": {},
   "outputs": [
    {
     "data": {
      "text/plain": [
       "(0.7, 0.3)"
      ]
     },
     "execution_count": 293,
     "metadata": {},
     "output_type": "execute_result"
    }
   ],
   "source": [
    "weight, bias"
   ]
  },
  {
   "cell_type": "markdown",
   "id": "75486d6d",
   "metadata": {},
   "source": [
    "**Making Predictions with our random model using inference model**"
   ]
  },
  {
   "cell_type": "code",
   "execution_count": 294,
   "id": "ef695aa8",
   "metadata": {},
   "outputs": [
    {
     "data": {
      "text/plain": [
       "tensor([[0.8000],\n",
       "        [0.8200],\n",
       "        [0.8400],\n",
       "        [0.8600],\n",
       "        [0.8800],\n",
       "        [0.9000],\n",
       "        [0.9200],\n",
       "        [0.9400],\n",
       "        [0.9600],\n",
       "        [0.9800]])"
      ]
     },
     "execution_count": 294,
     "metadata": {},
     "output_type": "execute_result"
    }
   ],
   "source": [
    "X_test"
   ]
  },
  {
   "cell_type": "code",
   "execution_count": 295,
   "id": "01b306b6",
   "metadata": {},
   "outputs": [
    {
     "data": {
      "text/plain": [
       "tensor([[1.6208],\n",
       "        [1.6385],\n",
       "        [1.6561],\n",
       "        [1.6738],\n",
       "        [1.6914],\n",
       "        [1.7090],\n",
       "        [1.7267],\n",
       "        [1.7443],\n",
       "        [1.7620],\n",
       "        [1.7796]])"
      ]
     },
     "execution_count": 295,
     "metadata": {},
     "output_type": "execute_result"
    }
   ],
   "source": [
    "#making prediction using torch.inference_mode() \n",
    "with torch.inference_mode():  #disables gradient tracking \n",
    "    y_preds = model_0(X_test)\n",
    "\n",
    "y_preds\n",
    "\n",
    "#we can also do something similar with torch.no_grad()"
   ]
  },
  {
   "cell_type": "code",
   "execution_count": 296,
   "id": "8f152da4",
   "metadata": {},
   "outputs": [
    {
     "data": {
      "text/plain": [
       "tensor([[0.8600],\n",
       "        [0.8740],\n",
       "        [0.8880],\n",
       "        [0.9020],\n",
       "        [0.9160],\n",
       "        [0.9300],\n",
       "        [0.9440],\n",
       "        [0.9580],\n",
       "        [0.9720],\n",
       "        [0.9860]])"
      ]
     },
     "execution_count": 296,
     "metadata": {},
     "output_type": "execute_result"
    }
   ],
   "source": [
    "y_test"
   ]
  },
  {
   "cell_type": "code",
   "execution_count": 297,
   "id": "7fc16cfb",
   "metadata": {},
   "outputs": [
    {
     "data": {
      "image/png": "[encoded data removed]",
      "text/plain": [
       "<Figure size 1000x700 with 1 Axes>"
      ]
     },
     "metadata": {},
     "output_type": "display_data"
    }
   ],
   "source": [
    "plot_predictions(predictions=y_preds)"
   ]
  },
  {
   "cell_type": "markdown",
   "id": "148bd204",
   "metadata": {},
   "source": [
    "**Setting up an Optimizer and Loss Function**"
   ]
  },
  {
   "cell_type": "code",
   "execution_count": 298,
   "id": "52728bf2",
   "metadata": {},
   "outputs": [],
   "source": [
    "#setup loss function \n",
    "loss_fn = nn.L1Loss() #mean absolute error\n",
    "\n",
    "#setup optimizer\n",
    "optimizer = torch.optim.SGD(params=model_0.parameters(), lr=0.01)\n"
   ]
  },
  {
   "cell_type": "code",
   "execution_count": 299,
   "id": "f87c33f9",
   "metadata": {},
   "outputs": [
    {
     "data": {
      "text/plain": [
       "(L1Loss(),\n",
       " SGD (\n",
       " Parameter Group 0\n",
       "     dampening: 0\n",
       "     differentiable: False\n",
       "     foreach: None\n",
       "     fused: None\n",
       "     lr: 0.01\n",
       "     maximize: False\n",
       "     momentum: 0\n",
       "     nesterov: False\n",
       "     weight_decay: 0\n",
       " ))"
      ]
     },
     "execution_count": 299,
     "metadata": {},
     "output_type": "execute_result"
    }
   ],
   "source": [
    "loss_fn, optimizer"
   ]
  },
  {
   "cell_type": "markdown",
   "id": "0952db24",
   "metadata": {},
   "source": [
    "**Building a Training Loop and Testing Loop**"
   ]
  },
  {
   "cell_type": "code",
   "execution_count": null,
   "id": "ac3670df",
   "metadata": {},
   "outputs": [],
   "source": []
  }
 ],
 "metadata": {
  "kernelspec": {
   "display_name": "venv",
   "language": "python",
   "name": "python3"
  },
  "language_info": {
   "codemirror_mode": {
    "name": "ipython",
    "version": 3
   },
   "file_extension": ".py",
   "mimetype": "text/x-python",
   "name": "python",
   "nbconvert_exporter": "python",
   "pygments_lexer": "ipython3",
   "version": "3.11.9"
  }
 },
 "nbformat": 4,
 "nbformat_minor": 5
}
