{
 "cells": [
  {
   "cell_type": "code",
   "execution_count": 1170,
   "id": "d44c83e2",
   "metadata": {},
   "outputs": [],
   "source": [
    "import torch\n",
    "import pandas as pd\n",
    "import numpy as np \n",
    "import matplotlib.pyplot as plt \n",
    "# print(torch.__version__)"
   ]
  },
  {
   "cell_type": "markdown",
   "id": "cd2befaa",
   "metadata": {},
   "source": [
    "creating tensors"
   ]
  },
  {
   "cell_type": "code",
   "execution_count": 1171,
   "id": "f95623ea",
   "metadata": {},
   "outputs": [
    {
     "data": {
      "text/plain": [
       "tensor(7)"
      ]
     },
     "execution_count": 1171,
     "metadata": {},
     "output_type": "execute_result"
    }
   ],
   "source": [
    "#scalar\n",
    "scalars = torch.tensor(7)\n",
    "scalars"
   ]
  },
  {
   "cell_type": "code",
   "execution_count": 1172,
   "id": "a8d8b190",
   "metadata": {},
   "outputs": [
    {
     "name": "stdout",
     "output_type": "stream",
     "text": [
      "dimension 0\n",
      "normal value of tensor 7\n",
      "datatype torch.int64\n",
      "shape of the tensor torch.Size([])\n"
     ]
    }
   ],
   "source": [
    "print(\"dimension\",scalars.ndim) #number of dimensions\n",
    "print(\"normal value of tensor\", scalars.item()) #get the value of a scalar tensor as a standard Python number\n",
    "print(\"datatype\", scalars.dtype) #data type of the tensor\n",
    "print(\"shape of the tensor\", scalars.shape) #shape of the tensor"
   ]
  },
  {
   "cell_type": "code",
   "execution_count": 1173,
   "id": "bf6b3232",
   "metadata": {},
   "outputs": [
    {
     "data": {
      "text/plain": [
       "tensor([1, 0])"
      ]
     },
     "execution_count": 1173,
     "metadata": {},
     "output_type": "execute_result"
    }
   ],
   "source": [
    "#Vectors\n",
    "vectors = torch.tensor([1,0])\n",
    "vectors"
   ]
  },
  {
   "cell_type": "code",
   "execution_count": 1174,
   "id": "f6757315",
   "metadata": {},
   "outputs": [
    {
     "name": "stdout",
     "output_type": "stream",
     "text": [
      "1\n",
      "torch.Size([2])\n",
      "torch.int64\n"
     ]
    }
   ],
   "source": [
    "print(vectors.ndim)\n",
    "print(vectors.shape)\n",
    "print(vectors.dtype)"
   ]
  },
  {
   "cell_type": "code",
   "execution_count": 1175,
   "id": "5a57eab7",
   "metadata": {},
   "outputs": [
    {
     "name": "stdout",
     "output_type": "stream",
     "text": [
      "tensor([[1, 0],\n",
      "        [0, 1]])\n",
      "dimension 2\n"
     ]
    }
   ],
   "source": [
    "#Matrix\n",
    "matrix = torch.tensor([[1,0],[0,1]])\n",
    "print(matrix)\n",
    "print(\"dimension\", matrix.ndim)"
   ]
  },
  {
   "cell_type": "code",
   "execution_count": 1176,
   "id": "65908f33",
   "metadata": {},
   "outputs": [
    {
     "data": {
      "text/plain": [
       "torch.Size([2, 2])"
      ]
     },
     "execution_count": 1176,
     "metadata": {},
     "output_type": "execute_result"
    }
   ],
   "source": [
    "matrix.shape #umm 2 * 2 matrix"
   ]
  },
  {
   "cell_type": "code",
   "execution_count": 1177,
   "id": "caabd906",
   "metadata": {},
   "outputs": [
    {
     "data": {
      "text/plain": [
       "tensor([0, 1])"
      ]
     },
     "execution_count": 1177,
     "metadata": {},
     "output_type": "execute_result"
    }
   ],
   "source": [
    "matrix[0] #first row\n",
    "matrix[1] #second row"
   ]
  },
  {
   "cell_type": "code",
   "execution_count": 1178,
   "id": "e5731601",
   "metadata": {},
   "outputs": [
    {
     "name": "stdout",
     "output_type": "stream",
     "text": [
      "tensor([[[1, 2, 3],\n",
      "         [4, 5, 6],\n",
      "         [7, 8, 9]]])\n",
      "dimension 3\n",
      "shape torch.Size([1, 3, 3])\n"
     ]
    }
   ],
   "source": [
    "TENSOR = torch.tensor([[[1,2,3],\n",
    "                        [4,5,6],\n",
    "                        [7,8,9]]])\n",
    "print(TENSOR)\n",
    "print(\"dimension\", TENSOR.ndim)\n",
    "print(\"shape\", TENSOR.shape)"
   ]
  },
  {
   "cell_type": "code",
   "execution_count": 1179,
   "id": "f4e63f92",
   "metadata": {},
   "outputs": [
    {
     "name": "stdout",
     "output_type": "stream",
     "text": [
      "shape torch.Size([1, 3, 3])\n"
     ]
    }
   ],
   "source": [
    "print(\"shape\", TENSOR.shape)"
   ]
  },
  {
   "cell_type": "code",
   "execution_count": 1180,
   "id": "2361d04e",
   "metadata": {},
   "outputs": [
    {
     "data": {
      "text/plain": [
       "tensor([[1, 2, 3],\n",
       "        [4, 5, 6],\n",
       "        [7, 8, 9]])"
      ]
     },
     "execution_count": 1180,
     "metadata": {},
     "output_type": "execute_result"
    }
   ],
   "source": [
    "TENSOR[0] #first 2D matrix"
   ]
  },
  {
   "cell_type": "code",
   "execution_count": 1181,
   "id": "4f389fef",
   "metadata": {},
   "outputs": [
    {
     "data": {
      "text/plain": [
       "tensor([1, 2, 3])"
      ]
     },
     "execution_count": 1181,
     "metadata": {},
     "output_type": "execute_result"
    }
   ],
   "source": [
    "TENSOR[0][0] #first row of first 2D matrix"
   ]
  },
  {
   "cell_type": "markdown",
   "id": "59acac2e",
   "metadata": {},
   "source": [
    "Creating Randon Tensors "
   ]
  },
  {
   "cell_type": "code",
   "execution_count": 1182,
   "id": "f204959d",
   "metadata": {},
   "outputs": [
    {
     "name": "stdout",
     "output_type": "stream",
     "text": [
      "tensor([[0.5600, 0.7513, 0.6759, 0.5685],\n",
      "        [0.6044, 0.1024, 0.9888, 0.5165],\n",
      "        [0.3646, 0.2470, 0.2838, 0.5853]])\n",
      "dimension 2\n"
     ]
    }
   ],
   "source": [
    "random_tensor = torch.rand(3,4) #Creates a tensor with shape (3, 4)3 rows 4 columns  filled with random numbers from a uniform distribution over [0, 1)\n",
    "print(random_tensor)\n",
    "print(\"dimension\", random_tensor.ndim)"
   ]
  },
  {
   "cell_type": "code",
   "execution_count": 1183,
   "id": "f0362b9f",
   "metadata": {},
   "outputs": [
    {
     "name": "stdout",
     "output_type": "stream",
     "text": [
      "torch.Size([244, 244, 3])\n",
      "torch.Size([244, 244, 3])\n",
      "3\n"
     ]
    }
   ],
   "source": [
    "#create a random with similar shape to an image tensor\n",
    "\n",
    "random_image_size_tensor = torch.rand(size=(244,244,3)) #height, width, color channels(RGB)\n",
    "print(random_image_size_tensor.shape)\n",
    "print(random_image_size_tensor.shape)\n",
    "print(random_image_size_tensor.ndim)"
   ]
  },
  {
   "cell_type": "code",
   "execution_count": 1184,
   "id": "c09a02f0",
   "metadata": {},
   "outputs": [
    {
     "name": "stdout",
     "output_type": "stream",
     "text": [
      "tensor([[[[0.2262, 0.0444, 0.8383, 0.9292],\n",
      "          [0.6681, 0.3285, 0.2011, 0.2265],\n",
      "          [0.7690, 0.2374, 0.5138, 0.2128]],\n",
      "\n",
      "         [[0.1513, 0.1060, 0.3756, 0.4024],\n",
      "          [0.4320, 0.3921, 0.8397, 0.9007],\n",
      "          [0.1453, 0.4262, 0.4018, 0.6183]],\n",
      "\n",
      "         [[0.3529, 0.3398, 0.8449, 0.4393],\n",
      "          [0.6609, 0.2371, 0.0621, 0.5038],\n",
      "          [0.1403, 0.7219, 0.2784, 0.0567]],\n",
      "\n",
      "         [[0.7249, 0.5440, 0.3806, 0.3092],\n",
      "          [0.5735, 0.3567, 0.0018, 0.0074],\n",
      "          [0.0508, 0.3245, 0.8191, 0.9285]]]])\n",
      "torch.Size([1, 4, 3, 4])\n"
     ]
    }
   ],
   "source": [
    "random_num = torch.rand(1,4,3,4) # channel batch rows columns\n",
    "print(random_num)\n",
    "print(random_num.shape)"
   ]
  },
  {
   "cell_type": "markdown",
   "id": "20fe6f91",
   "metadata": {},
   "source": [
    "Creating tensor with Zeros and Ones "
   ]
  },
  {
   "cell_type": "code",
   "execution_count": 1185,
   "id": "bebc0a4d",
   "metadata": {},
   "outputs": [
    {
     "data": {
      "text/plain": [
       "tensor([[0., 0., 0.],\n",
       "        [0., 0., 0.],\n",
       "        [0., 0., 0.]])"
      ]
     },
     "execution_count": 1185,
     "metadata": {},
     "output_type": "execute_result"
    }
   ],
   "source": [
    "#create a tensor of all zeros\n",
    "\n",
    "zeros = torch.zeros(3,3)\n",
    "zeros"
   ]
  },
  {
   "cell_type": "code",
   "execution_count": 1186,
   "id": "a512d498",
   "metadata": {},
   "outputs": [
    {
     "data": {
      "text/plain": [
       "tensor([[1., 1., 1.],\n",
       "        [1., 1., 1.],\n",
       "        [1., 1., 1.]])"
      ]
     },
     "execution_count": 1186,
     "metadata": {},
     "output_type": "execute_result"
    }
   ],
   "source": [
    "#create a tensor of all ones\n",
    "ones = torch.ones(3,3)\n",
    "ones"
   ]
  },
  {
   "cell_type": "markdown",
   "id": "04aa02ba",
   "metadata": {},
   "source": [
    "creating a range/arange of tensors and tensor-like"
   ]
  },
  {
   "cell_type": "code",
   "execution_count": 1187,
   "id": "918f7b7f",
   "metadata": {},
   "outputs": [
    {
     "name": "stdout",
     "output_type": "stream",
     "text": [
      "tensor([0, 1, 2, 3, 4, 5, 6, 7, 8, 9])\n",
      "tensor([0, 3, 6, 9])\n"
     ]
    }
   ],
   "source": [
    "print(torch.arange(0,10)) #similar to python range but returns a tensor\n",
    "print(torch.arange(0,10,3)) #step size of 2"
   ]
  },
  {
   "cell_type": "code",
   "execution_count": 1188,
   "id": "56e0030d",
   "metadata": {},
   "outputs": [
    {
     "data": {
      "text/plain": [
       "tensor([  0,  10,  20,  30,  40,  50,  60,  70,  80,  90, 100, 110, 120, 130,\n",
       "        140, 150, 160, 170, 180, 190, 200, 210, 220, 230, 240, 250, 260, 270,\n",
       "        280, 290, 300, 310, 320, 330, 340, 350, 360, 370, 380, 390, 400, 410,\n",
       "        420, 430, 440, 450, 460, 470, 480, 490, 500, 510, 520, 530, 540, 550,\n",
       "        560, 570, 580, 590, 600, 610, 620, 630, 640, 650, 660, 670, 680, 690,\n",
       "        700, 710, 720, 730, 740, 750, 760, 770, 780, 790, 800, 810, 820, 830,\n",
       "        840, 850, 860, 870, 880, 890, 900, 910, 920, 930, 940, 950, 960, 970,\n",
       "        980, 990])"
      ]
     },
     "execution_count": 1188,
     "metadata": {},
     "output_type": "execute_result"
    }
   ],
   "source": [
    "random = torch.arange(start = 0, end = 1000, step = 10)\n",
    "random"
   ]
  },
  {
   "cell_type": "code",
   "execution_count": 1189,
   "id": "93ef93ed",
   "metadata": {},
   "outputs": [
    {
     "data": {
      "text/plain": [
       "tensor([0, 0, 0, 0, 0, 0, 0, 0, 0, 0, 0, 0, 0, 0, 0, 0, 0, 0, 0, 0, 0, 0, 0, 0,\n",
       "        0, 0, 0, 0, 0, 0, 0, 0, 0, 0, 0, 0, 0, 0, 0, 0, 0, 0, 0, 0, 0, 0, 0, 0,\n",
       "        0, 0, 0, 0, 0, 0, 0, 0, 0, 0, 0, 0, 0, 0, 0, 0, 0, 0, 0, 0, 0, 0, 0, 0,\n",
       "        0, 0, 0, 0, 0, 0, 0, 0, 0, 0, 0, 0, 0, 0, 0, 0, 0, 0, 0, 0, 0, 0, 0, 0,\n",
       "        0, 0, 0, 0])"
      ]
     },
     "execution_count": 1189,
     "metadata": {},
     "output_type": "execute_result"
    }
   ],
   "source": [
    "#creatig tensor like\n",
    "tensor_like = torch.zeros_like(random)\n",
    "tensor_like"
   ]
  },
  {
   "cell_type": "markdown",
   "id": "d2ae6908",
   "metadata": {},
   "source": [
    "dealing with tensors data types"
   ]
  },
  {
   "cell_type": "code",
   "execution_count": 1190,
   "id": "54fa4d0e",
   "metadata": {},
   "outputs": [
    {
     "name": "stdout",
     "output_type": "stream",
     "text": [
      "tensor([1., 2., 3.])\n",
      "torch.float32\n"
     ]
    }
   ],
   "source": [
    "#float 32 tensor\n",
    "float_32_tesnor = torch.tensor([1.0,2.0,3.0],\n",
    "                               dtype=None, #specify the data type you want your tensor to be\n",
    "                               device=None, #specify the device you want your tensor to be on\n",
    "                               requires_grad=False) #whether to track gradients for this tensor or not\n",
    "print(float_32_tesnor)\n",
    "print(float_32_tesnor.dtype)"
   ]
  },
  {
   "cell_type": "code",
   "execution_count": 1191,
   "id": "265c5ddb",
   "metadata": {},
   "outputs": [
    {
     "data": {
      "text/plain": [
       "tensor([1., 2., 3.], dtype=torch.float16)"
      ]
     },
     "execution_count": 1191,
     "metadata": {},
     "output_type": "execute_result"
    }
   ],
   "source": [
    "float_16_tensor = float_32_tesnor.type(torch.half)\n",
    "float_16_tensor"
   ]
  },
  {
   "cell_type": "code",
   "execution_count": 1192,
   "id": "00bc1bdd",
   "metadata": {},
   "outputs": [
    {
     "data": {
      "text/plain": [
       "tensor([1., 2., 3.], dtype=torch.float64)"
      ]
     },
     "execution_count": 1192,
     "metadata": {},
     "output_type": "execute_result"
    }
   ],
   "source": [
    "float_64_tensor = float_32_tesnor.type(torch.double)\n",
    "float_64_tensor"
   ]
  },
  {
   "cell_type": "code",
   "execution_count": 1193,
   "id": "60a98675",
   "metadata": {},
   "outputs": [
    {
     "data": {
      "text/plain": [
       "tensor([1., 4., 9.], dtype=torch.float64)"
      ]
     },
     "execution_count": 1193,
     "metadata": {},
     "output_type": "execute_result"
    }
   ],
   "source": [
    "float_16_tensor * float_64_tensor"
   ]
  },
  {
   "cell_type": "code",
   "execution_count": 1194,
   "id": "0b31f2ba",
   "metadata": {},
   "outputs": [
    {
     "data": {
      "text/plain": [
       "tensor([1, 2, 3], dtype=torch.int32)"
      ]
     },
     "execution_count": 1194,
     "metadata": {},
     "output_type": "execute_result"
    }
   ],
   "source": [
    "int_32_tensor = torch.tensor([1,2,3], dtype=torch.int32)\n",
    "int_32_tensor"
   ]
  },
  {
   "cell_type": "code",
   "execution_count": 1195,
   "id": "083b0b73",
   "metadata": {},
   "outputs": [
    {
     "data": {
      "text/plain": [
       "tensor([1., 4., 9.])"
      ]
     },
     "execution_count": 1195,
     "metadata": {},
     "output_type": "execute_result"
    }
   ],
   "source": [
    "int_32_tensor * float_32_tesnor"
   ]
  },
  {
   "cell_type": "markdown",
   "id": "98cfeefa",
   "metadata": {},
   "source": [
    "Getting info from tensor"
   ]
  },
  {
   "cell_type": "code",
   "execution_count": 1196,
   "id": "b317b905",
   "metadata": {},
   "outputs": [
    {
     "name": "stdout",
     "output_type": "stream",
     "text": [
      "tensor([[0.7624, 0.5724, 0.0298, 0.6360],\n",
      "        [0.8953, 0.1715, 0.4079, 0.7447],\n",
      "        [0.9628, 0.2692, 0.2166, 0.6972]])\n",
      "Shape of tensor torch.Size([3, 4])\n",
      "data type of tensor torch.Size([3, 4])\n",
      "device of tensor cpu\n",
      "dimension of tensor 2\n"
     ]
    }
   ],
   "source": [
    "some_tensor = torch.rand(3,4)\n",
    "print(some_tensor)\n",
    "\n",
    "#find out some details abot the given above tensor\n",
    "print(\"Shape of tensor\", some_tensor.shape)\n",
    "print(\"data type of tensor\", some_tensor.shape)\n",
    "print(\"device of tensor\", some_tensor.device)\n",
    "print(\"dimension of tensor\", some_tensor.ndim)"
   ]
  },
  {
   "cell_type": "markdown",
   "id": "03b4326a",
   "metadata": {},
   "source": [
    "Manipulaing Tensors (Tensors Operations)"
   ]
  },
  {
   "cell_type": "code",
   "execution_count": 1197,
   "id": "a4c77f8a",
   "metadata": {},
   "outputs": [
    {
     "data": {
      "text/plain": [
       "tensor([101, 102, 103])"
      ]
     },
     "execution_count": 1197,
     "metadata": {},
     "output_type": "execute_result"
    }
   ],
   "source": [
    "tensor = torch.tensor([1,2,3])\n",
    "tensor + 100\n"
   ]
  },
  {
   "cell_type": "code",
   "execution_count": 1198,
   "id": "78936178",
   "metadata": {},
   "outputs": [
    {
     "data": {
      "text/plain": [
       "tensor([100, 200, 300])"
      ]
     },
     "execution_count": 1198,
     "metadata": {},
     "output_type": "execute_result"
    }
   ],
   "source": [
    "#multiply\n",
    "tensor * 100"
   ]
  },
  {
   "cell_type": "code",
   "execution_count": 1199,
   "id": "77c88677",
   "metadata": {},
   "outputs": [
    {
     "data": {
      "text/plain": [
       "tensor([-9, -8, -7])"
      ]
     },
     "execution_count": 1199,
     "metadata": {},
     "output_type": "execute_result"
    }
   ],
   "source": [
    "#subtract\n",
    "tensor - 10"
   ]
  },
  {
   "cell_type": "markdown",
   "id": "71cd5283",
   "metadata": {},
   "source": [
    "Matrix Multiplication"
   ]
  },
  {
   "cell_type": "code",
   "execution_count": 1200,
   "id": "88a55d8f",
   "metadata": {},
   "outputs": [
    {
     "name": "stdout",
     "output_type": "stream",
     "text": [
      "tensor([ 4, 16, 36])\n"
     ]
    }
   ],
   "source": [
    "#element wise multiplication\n",
    "tesnsor = torch.tensor(  [2,4,6])\n",
    "print(tesnsor * tesnsor)"
   ]
  },
  {
   "cell_type": "code",
   "execution_count": 1201,
   "id": "96584ae0",
   "metadata": {},
   "outputs": [
    {
     "name": "stdout",
     "output_type": "stream",
     "text": [
      "tensor([ 4, 16, 36])\n"
     ]
    }
   ],
   "source": [
    "#element wise multiplication\n",
    "tesnsor = torch.tensor([2,4,6])\n",
    "print(tesnsor * tesnsor)"
   ]
  },
  {
   "cell_type": "code",
   "execution_count": 1202,
   "id": "046f2dbc",
   "metadata": {},
   "outputs": [
    {
     "name": "stdout",
     "output_type": "stream",
     "text": [
      "tensor(56)\n"
     ]
    }
   ],
   "source": [
    "#matrix multiplication\n",
    "print(tesnsor.matmul(tesnsor)) #dot product"
   ]
  },
  {
   "cell_type": "markdown",
   "id": "fe066668",
   "metadata": {},
   "source": [
    "there are two main rule of performing matrix multiplication\n",
    "1. the inner dimension must match \n",
    "(3,2)  @  (3,2) won't work\n",
    "(2,3)  @  (3,2) will work\n",
    "(3,2)  @  (2,3) will work\n",
    "\n",
    "2. the resulting matrix has the shape of the outer dimension\n",
    "   (3,2)  @  (3,2)  -> (2,2)"
   ]
  },
  {
   "cell_type": "code",
   "execution_count": 1203,
   "id": "001fa20a",
   "metadata": {},
   "outputs": [],
   "source": [
    "#torch.matmul(torch.rand(3,2), torch.rand(3,2)) #error because shapes are not aligned"
   ]
  },
  {
   "cell_type": "code",
   "execution_count": 1204,
   "id": "843a03bb",
   "metadata": {},
   "outputs": [
    {
     "data": {
      "text/plain": [
       "tensor([[0.5308, 0.2971, 0.2389],\n",
       "        [0.3717, 0.2284, 0.1738],\n",
       "        [0.5760, 0.3294, 0.2615]])"
      ]
     },
     "execution_count": 1204,
     "metadata": {},
     "output_type": "execute_result"
    }
   ],
   "source": [
    "torch.matmul(torch.rand(3,2), torch.rand(2,3)) #correct shapes"
   ]
  },
  {
   "cell_type": "code",
   "execution_count": 1205,
   "id": "1438827e",
   "metadata": {},
   "outputs": [
    {
     "data": {
      "text/plain": [
       "tensor([[0.5186, 0.9990, 1.1183],\n",
       "        [1.1121, 1.2156, 1.0187],\n",
       "        [1.1111, 1.2940, 1.1777]])"
      ]
     },
     "execution_count": 1205,
     "metadata": {},
     "output_type": "execute_result"
    }
   ],
   "source": [
    "torch.matmul(torch.rand(3,4),torch.rand(4,3))"
   ]
  },
  {
   "cell_type": "code",
   "execution_count": 1206,
   "id": "e70f4bf4",
   "metadata": {},
   "outputs": [
    {
     "name": "stdout",
     "output_type": "stream",
     "text": [
      "tensor([[2.3474, 1.7394, 0.9182, 1.7712, 1.8457, 1.1338],\n",
      "        [1.2644, 0.6864, 0.5370, 1.5535, 1.4986, 0.8973],\n",
      "        [1.7313, 1.4403, 0.6391, 0.9568, 1.0356, 0.6536],\n",
      "        [0.8934, 0.6283, 0.3584, 0.7275, 0.7482, 0.4688],\n",
      "        [1.9163, 1.1944, 0.8003, 1.8298, 1.8109, 1.1736],\n",
      "        [0.7090, 0.4881, 0.2423, 0.8048, 0.7052, 0.3843]])\n"
     ]
    },
    {
     "data": {
      "text/plain": [
       "torch.Size([6, 6])"
      ]
     },
     "execution_count": 1206,
     "metadata": {},
     "output_type": "execute_result"
    }
   ],
   "source": [
    "tensor = torch.matmul(torch.rand(6,4),torch.rand(4,6))\n",
    "print(tensor)\n",
    "tensor.shape"
   ]
  },
  {
   "cell_type": "markdown",
   "id": "607f3f57",
   "metadata": {},
   "source": [
    "Dealing wit **Shape Errors**"
   ]
  },
  {
   "cell_type": "code",
   "execution_count": 1207,
   "id": "64604c4e",
   "metadata": {},
   "outputs": [],
   "source": [
    "# tensor_a = torch.tensor([[1,2],\n",
    "#                          [3,4],\n",
    "#                          [5,6]])\n",
    "\n",
    "# tensor_b = torch.tensor([[3,6],\n",
    "#                          [9,12],\n",
    "#                          [15,18]])\n",
    "\n",
    "# tesnsor\n",
    "# torch.matmul(tensor_a, tensor_b) #error because shapes are not aligned\n",
    "# #torch.mm(tensor_a, tensor_b) #works same as torch as matmul \n",
    "\n"
   ]
  },
  {
   "cell_type": "markdown",
   "id": "d4b45b60",
   "metadata": {},
   "source": [
    "to fix these tesnor shape error or isues, we can manipulate the shape of one of the tensor using a **Transpose**"
   ]
  },
  {
   "cell_type": "code",
   "execution_count": 1208,
   "id": "b0b4afed",
   "metadata": {},
   "outputs": [
    {
     "data": {
      "text/plain": [
       "tensor([[ 15,  33,  51],\n",
       "        [ 33,  75, 117],\n",
       "        [ 51, 117, 183]])"
      ]
     },
     "execution_count": 1208,
     "metadata": {},
     "output_type": "execute_result"
    }
   ],
   "source": [
    "tensor_a = torch.tensor([[1,2],\n",
    "                         [3,4],\n",
    "                         [5,6]])\n",
    "\n",
    "tensor_b = torch.tensor([[3,6],\n",
    "                         [9,12],\n",
    "                         [15,18]])\n",
    "\n",
    "tesnsor\n",
    "torch.matmul(tensor_a, tensor_b.T) #transpose switches the axes or the dimensions of the given tensor\n",
    "#torch.mm(tensor_a, tensor_b) #works same as torch as matmul \n",
    "\n"
   ]
  },
  {
   "cell_type": "code",
   "execution_count": 1209,
   "id": "2216c9e6",
   "metadata": {},
   "outputs": [
    {
     "name": "stdout",
     "output_type": "stream",
     "text": [
      "tensor([[ 3,  9, 15],\n",
      "        [ 6, 12, 18]])\n"
     ]
    }
   ],
   "source": [
    "print(tensor_b.T)"
   ]
  },
  {
   "cell_type": "markdown",
   "id": "7f9fe0cd",
   "metadata": {},
   "source": [
    "Finding the **Mean** **Max** and **Sum of Tensors** (Tensor Aggregation)"
   ]
  },
  {
   "cell_type": "code",
   "execution_count": 1210,
   "id": "114ec496",
   "metadata": {},
   "outputs": [
    {
     "name": "stdout",
     "output_type": "stream",
     "text": [
      "tensor([ 1, 11, 21, 31, 41, 51, 61, 71, 81, 91])\n"
     ]
    },
    {
     "data": {
      "text/plain": [
       "torch.int64"
      ]
     },
     "execution_count": 1210,
     "metadata": {},
     "output_type": "execute_result"
    }
   ],
   "source": [
    "x = torch.arange(1,100, 10)\n",
    "print(x)\n",
    "x.dtype"
   ]
  },
  {
   "cell_type": "code",
   "execution_count": 1211,
   "id": "01b1390e",
   "metadata": {},
   "outputs": [
    {
     "data": {
      "text/plain": [
       "tensor(1)"
      ]
     },
     "execution_count": 1211,
     "metadata": {},
     "output_type": "execute_result"
    }
   ],
   "source": [
    "x.min() #minimum value of the tensor"
   ]
  },
  {
   "cell_type": "code",
   "execution_count": 1212,
   "id": "0624725e",
   "metadata": {},
   "outputs": [
    {
     "data": {
      "text/plain": [
       "tensor(91)"
      ]
     },
     "execution_count": 1212,
     "metadata": {},
     "output_type": "execute_result"
    }
   ],
   "source": [
    "x.max() #maximum value of the tensor"
   ]
  },
  {
   "cell_type": "code",
   "execution_count": 1213,
   "id": "578dc0ef",
   "metadata": {},
   "outputs": [
    {
     "data": {
      "text/plain": [
       "tensor(46.)"
      ]
     },
     "execution_count": 1213,
     "metadata": {},
     "output_type": "execute_result"
    }
   ],
   "source": [
    "#the torch.mean() function only works on float tensors not with int(it will throw an error)\n",
    "torch.mean(x.type(torch.float32)) #mean value of the tensor"
   ]
  },
  {
   "cell_type": "code",
   "execution_count": 1214,
   "id": "36929fed",
   "metadata": {},
   "outputs": [
    {
     "data": {
      "text/plain": [
       "(tensor(460), tensor(460))"
      ]
     },
     "execution_count": 1214,
     "metadata": {},
     "output_type": "execute_result"
    }
   ],
   "source": [
    "torch.sum(x), x.sum() #sum of all the values of the tensor"
   ]
  },
  {
   "cell_type": "markdown",
   "id": "bb1d5013",
   "metadata": {},
   "source": [
    "Finding the **Positional Min and Max** of tensors"
   ]
  },
  {
   "cell_type": "code",
   "execution_count": 1215,
   "id": "eba20cfc",
   "metadata": {},
   "outputs": [
    {
     "name": "stdout",
     "output_type": "stream",
     "text": [
      "tensor(0)\n",
      "tensor(9)\n"
     ]
    }
   ],
   "source": [
    "#finding the positional miin and max\n",
    "x\n",
    "print(x.argmin()) #argmin returns the index of the minimum value in the tensor\n",
    "print(x.argmax()) #argmax returns the index of the maximum value in the tensor"
   ]
  },
  {
   "cell_type": "markdown",
   "id": "5c2ec9e4",
   "metadata": {},
   "source": [
    "**Reshaping Viewing and Stacking  Squeezing Unsqueezing Tensors**\n",
    "1. Reshaping - reshapes and imnput tensors to a defined shape\n",
    "2. View - return a view of an input tensor of certain shape but keep the memory as the original tensor\n",
    "3. Stacking - combine multiple tensors on top of each other (vstack) or side by side (hstack)\n",
    "4. Sqeeze - rempves all `1` dimension forn a tensor\n",
    "5. Unsqueeze - add a `1` dimension to a target tensor\n",
    "6. Permute - return a view if the input with dimension permuted in a certain way"
   ]
  },
  {
   "cell_type": "code",
   "execution_count": 1216,
   "id": "cf8943fe",
   "metadata": {},
   "outputs": [
    {
     "data": {
      "text/plain": [
       "(tensor([1., 2., 3., 4., 5., 6., 7., 8., 9.]), torch.Size([9]))"
      ]
     },
     "execution_count": 1216,
     "metadata": {},
     "output_type": "execute_result"
    }
   ],
   "source": [
    "y = torch.arange(1., 10.)\n",
    "y, y.shape"
   ]
  },
  {
   "cell_type": "code",
   "execution_count": 1217,
   "id": "e82654f4",
   "metadata": {},
   "outputs": [
    {
     "data": {
      "text/plain": [
       "(tensor([[1.],\n",
       "         [2.],\n",
       "         [3.],\n",
       "         [4.],\n",
       "         [5.],\n",
       "         [6.],\n",
       "         [7.],\n",
       "         [8.],\n",
       "         [9.]]),\n",
       " torch.Size([9, 1]))"
      ]
     },
     "execution_count": 1217,
     "metadata": {},
     "output_type": "execute_result"
    }
   ],
   "source": [
    "y_reshaped_1 = y.reshape(9,1)\n",
    "y_reshaped_1, y_reshaped_1.shape"
   ]
  },
  {
   "cell_type": "code",
   "execution_count": 1218,
   "id": "653faf91",
   "metadata": {},
   "outputs": [
    {
     "data": {
      "text/plain": [
       "(tensor([[1., 2., 3.],\n",
       "         [4., 5., 6.],\n",
       "         [7., 8., 9.]]),\n",
       " torch.Size([3, 3]))"
      ]
     },
     "execution_count": 1218,
     "metadata": {},
     "output_type": "execute_result"
    }
   ],
   "source": [
    "#add an extra dimension\n",
    "y_reshaped = y.reshape(3,3)\n",
    "y_reshaped_1 = y.reshape(9,1)\n",
    "y_reshaped, y_reshaped.shape"
   ]
  },
  {
   "cell_type": "code",
   "execution_count": 1219,
   "id": "ce781e9e",
   "metadata": {},
   "outputs": [
    {
     "data": {
      "text/plain": [
       "(tensor([[1., 2., 3., 4., 5., 6., 7., 8., 9.]]), torch.Size([1, 9]))"
      ]
     },
     "execution_count": 1219,
     "metadata": {},
     "output_type": "execute_result"
    }
   ],
   "source": [
    "#change the view\n",
    "\"\"\"changing z changes x because a view is just a different way of looking at the same data,or share the same memory as the original tensor\"\"\"\n",
    "z = y.view(1,9)\n",
    "z, z.shape"
   ]
  },
  {
   "cell_type": "code",
   "execution_count": 1220,
   "id": "a41b8041",
   "metadata": {},
   "outputs": [
    {
     "data": {
      "text/plain": [
       "(tensor([[1., 2., 3., 4., 5., 6., 7., 8., 9.],\n",
       "         [1., 2., 3., 4., 5., 6., 7., 8., 9.],\n",
       "         [1., 2., 3., 4., 5., 6., 7., 8., 9.],\n",
       "         [1., 2., 3., 4., 5., 6., 7., 8., 9.]]),\n",
       " torch.Size([4, 9]))"
      ]
     },
     "execution_count": 1220,
     "metadata": {},
     "output_type": "execute_result"
    }
   ],
   "source": [
    "#stack tensor on top of each other\n",
    "y_stacked = torch.stack([y,y,y,y],dim=0) #dim=0 means stack along the rows\n",
    "y_stacked, y_stacked.shape  "
   ]
  },
  {
   "cell_type": "code",
   "execution_count": 1221,
   "id": "f8b10d1d",
   "metadata": {},
   "outputs": [
    {
     "data": {
      "text/plain": [
       "(tensor([[1., 1., 1., 1.],\n",
       "         [2., 2., 2., 2.],\n",
       "         [3., 3., 3., 3.],\n",
       "         [4., 4., 4., 4.],\n",
       "         [5., 5., 5., 5.],\n",
       "         [6., 6., 6., 6.],\n",
       "         [7., 7., 7., 7.],\n",
       "         [8., 8., 8., 8.],\n",
       "         [9., 9., 9., 9.]]),\n",
       " torch.Size([9, 4]))"
      ]
     },
     "execution_count": 1221,
     "metadata": {},
     "output_type": "execute_result"
    }
   ],
   "source": [
    "#stack tensor on top of each other\n",
    "y_stacked = torch.stack([y,y,y,y],dim=1) #dim=1 means stack along the columns\n",
    "y_stacked, y_stacked.shape  "
   ]
  },
  {
   "cell_type": "code",
   "execution_count": 1222,
   "id": "dbea3049",
   "metadata": {},
   "outputs": [
    {
     "data": {
      "text/plain": [
       "tensor([[1., 2., 3.],\n",
       "        [4., 5., 6.],\n",
       "        [7., 8., 9.]])"
      ]
     },
     "execution_count": 1222,
     "metadata": {},
     "output_type": "execute_result"
    }
   ],
   "source": [
    "y_reshaped.squeeze()"
   ]
  },
  {
   "cell_type": "code",
   "execution_count": 1223,
   "id": "e71b1aa6",
   "metadata": {},
   "outputs": [
    {
     "data": {
      "text/plain": [
       "(tensor([1., 2., 3., 4., 5., 6., 7., 8., 9.]), torch.Size([9]))"
      ]
     },
     "execution_count": 1223,
     "metadata": {},
     "output_type": "execute_result"
    }
   ],
   "source": [
    "#squeeze and unsqueeze\n",
    "y_squeeze = torch.squeeze(y_reshaped_1) #removes all the dimensions of size 1\n",
    "y_squeeze, y_squeeze.shape"
   ]
  },
  {
   "cell_type": "code",
   "execution_count": 1224,
   "id": "2306e71e",
   "metadata": {},
   "outputs": [
    {
     "data": {
      "text/plain": [
       "(tensor([[1., 2., 3., 4., 5., 6., 7., 8., 9.]]), torch.Size([1, 9]))"
      ]
     },
     "execution_count": 1224,
     "metadata": {},
     "output_type": "execute_result"
    }
   ],
   "source": [
    "y_unsqueezed = torch.unsqueeze(y_squeeze, dim=0) #adds a dimension of size 1 at the specified position\n",
    "y_unsqueezed, y_unsqueezed.shape"
   ]
  },
  {
   "cell_type": "code",
   "execution_count": 1225,
   "id": "a0f36ab4",
   "metadata": {},
   "outputs": [
    {
     "data": {
      "text/plain": [
       "(torch.Size([3, 224, 224]),\n",
       " tensor([[[0.7255, 0.0397, 0.0558,  ..., 0.3419, 0.8438, 0.9807],\n",
       "          [0.2409, 0.1263, 0.6832,  ..., 0.1268, 0.0825, 0.5119],\n",
       "          [0.1737, 0.9000, 0.5767,  ..., 0.7049, 0.3173, 0.3581],\n",
       "          ...,\n",
       "          [0.2151, 0.4957, 0.4323,  ..., 0.6620, 0.6194, 0.6064],\n",
       "          [0.0166, 0.8120, 0.9544,  ..., 0.1964, 0.2162, 0.1848],\n",
       "          [0.2107, 0.0201, 0.9938,  ..., 0.9963, 0.6881, 0.7213]],\n",
       " \n",
       "         [[0.8321, 0.9663, 0.2873,  ..., 0.0748, 0.3826, 0.4766],\n",
       "          [0.4873, 0.4066, 0.9572,  ..., 0.2263, 0.0179, 0.5568],\n",
       "          [0.3267, 0.8353, 0.4100,  ..., 0.0687, 0.4370, 0.0186],\n",
       "          ...,\n",
       "          [0.2263, 0.0186, 0.6308,  ..., 0.5515, 0.0301, 0.2934],\n",
       "          [0.9296, 0.9429, 0.3835,  ..., 0.4663, 0.6479, 0.9661],\n",
       "          [0.8225, 0.9074, 0.8672,  ..., 0.7425, 0.4009, 0.5947]],\n",
       " \n",
       "         [[0.9440, 0.6581, 0.2273,  ..., 0.9354, 0.9876, 0.3390],\n",
       "          [0.3619, 0.0376, 0.5495,  ..., 0.7371, 0.0424, 0.5490],\n",
       "          [0.7506, 0.2324, 0.2620,  ..., 0.0645, 0.1026, 0.7968],\n",
       "          ...,\n",
       "          [0.4983, 0.2005, 0.1829,  ..., 0.9839, 0.0642, 0.5053],\n",
       "          [0.0213, 0.1406, 0.8645,  ..., 0.5028, 0.4017, 0.0329],\n",
       "          [0.2348, 0.9933, 0.1220,  ..., 0.2501, 0.2854, 0.1912]]]))"
      ]
     },
     "execution_count": 1225,
     "metadata": {},
     "output_type": "execute_result"
    }
   ],
   "source": [
    "#permute rearanges the dimension of target tensor in a specified order\n",
    "x_original = torch.rand(224,224,3)\n",
    "x_original.shape\n",
    "#permute the original tensor to change the order of dimensions\n",
    "x_permuted = x_original.permute(2,0,1) #from (height, width, color channels) to (color channels, height, width)\n",
    "x_permuted.shape, x_permuted"
   ]
  },
  {
   "cell_type": "markdown",
   "id": "015949d4",
   "metadata": {},
   "source": [
    "**Indexing**"
   ]
  },
  {
   "cell_type": "code",
   "execution_count": 1229,
   "id": "810281be",
   "metadata": {},
   "outputs": [
    {
     "data": {
      "text/plain": [
       "tensor([[[1., 2., 3.],\n",
       "         [4., 5., 6.],\n",
       "         [7., 8., 9.]]])"
      ]
     },
     "execution_count": 1229,
     "metadata": {},
     "output_type": "execute_result"
    }
   ],
   "source": [
    "x = torch.arange(1.,10.).reshape(1,3,3)\n",
    "x"
   ]
  },
  {
   "cell_type": "code",
   "execution_count": 1230,
   "id": "9fd9f80c",
   "metadata": {},
   "outputs": [
    {
     "data": {
      "text/plain": [
       "tensor([[1., 2., 3.],\n",
       "        [4., 5., 6.],\n",
       "        [7., 8., 9.]])"
      ]
     },
     "execution_count": 1230,
     "metadata": {},
     "output_type": "execute_result"
    }
   ],
   "source": [
    "x[0] #first 2D matrix"
   ]
  },
  {
   "cell_type": "code",
   "execution_count": 1232,
   "id": "bb069a85",
   "metadata": {},
   "outputs": [
    {
     "data": {
      "text/plain": [
       "tensor([1., 2., 3.])"
      ]
     },
     "execution_count": 1232,
     "metadata": {},
     "output_type": "execute_result"
    }
   ],
   "source": [
    "x[0][0] #first row of first 2D matrix"
   ]
  },
  {
   "cell_type": "code",
   "execution_count": null,
   "id": "a7baa8eb",
   "metadata": {},
   "outputs": [
    {
     "data": {
      "text/plain": [
       "tensor([4., 5., 6.])"
      ]
     },
     "execution_count": 1233,
     "metadata": {},
     "output_type": "execute_result"
    }
   ],
   "source": [
    "x[0][1] #second row of first 2D matrix"
   ]
  },
  {
   "cell_type": "code",
   "execution_count": 1234,
   "id": "1f9af32d",
   "metadata": {},
   "outputs": [
    {
     "data": {
      "text/plain": [
       "tensor(3.)"
      ]
     },
     "execution_count": 1234,
     "metadata": {},
     "output_type": "execute_result"
    }
   ],
   "source": [
    "x[0][0][2]"
   ]
  },
  {
   "cell_type": "code",
   "execution_count": 1235,
   "id": "8aa5739a",
   "metadata": {},
   "outputs": [
    {
     "data": {
      "text/plain": [
       "tensor(6.)"
      ]
     },
     "execution_count": 1235,
     "metadata": {},
     "output_type": "execute_result"
    }
   ],
   "source": [
    "x[0][1][2]"
   ]
  },
  {
   "cell_type": "code",
   "execution_count": 1236,
   "id": "5fc62482",
   "metadata": {},
   "outputs": [
    {
     "data": {
      "text/plain": [
       "tensor(9.)"
      ]
     },
     "execution_count": 1236,
     "metadata": {},
     "output_type": "execute_result"
    }
   ],
   "source": [
    "x[0][2][2]"
   ]
  }
 ],
 "metadata": {
  "kernelspec": {
   "display_name": "venv",
   "language": "python",
   "name": "python3"
  },
  "language_info": {
   "codemirror_mode": {
    "name": "ipython",
    "version": 3
   },
   "file_extension": ".py",
   "mimetype": "text/x-python",
   "name": "python",
   "nbconvert_exporter": "python",
   "pygments_lexer": "ipython3",
   "version": "3.11.9"
  }
 },
 "nbformat": 4,
 "nbformat_minor": 5
}
