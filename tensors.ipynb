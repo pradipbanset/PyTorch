{
 "cells": [
  {
   "cell_type": "code",
   "execution_count": 1237,
   "id": "d44c83e2",
   "metadata": {},
   "outputs": [],
   "source": [
    "import torch\n",
    "import pandas as pd\n",
    "import numpy as np \n",
    "import matplotlib.pyplot as plt \n",
    "# print(torch.__version__)"
   ]
  },
  {
   "cell_type": "markdown",
   "id": "cd2befaa",
   "metadata": {},
   "source": [
    "creating tensors"
   ]
  },
  {
   "cell_type": "code",
   "execution_count": 1238,
   "id": "f95623ea",
   "metadata": {},
   "outputs": [
    {
     "data": {
      "text/plain": [
       "tensor(7)"
      ]
     },
     "execution_count": 1238,
     "metadata": {},
     "output_type": "execute_result"
    }
   ],
   "source": [
    "#scalar\n",
    "scalars = torch.tensor(7)\n",
    "scalars"
   ]
  },
  {
   "cell_type": "code",
   "execution_count": 1239,
   "id": "a8d8b190",
   "metadata": {},
   "outputs": [
    {
     "name": "stdout",
     "output_type": "stream",
     "text": [
      "dimension 0\n",
      "normal value of tensor 7\n",
      "datatype torch.int64\n",
      "shape of the tensor torch.Size([])\n"
     ]
    }
   ],
   "source": [
    "print(\"dimension\",scalars.ndim) #number of dimensions\n",
    "print(\"normal value of tensor\", scalars.item()) #get the value of a scalar tensor as a standard Python number\n",
    "print(\"datatype\", scalars.dtype) #data type of the tensor\n",
    "print(\"shape of the tensor\", scalars.shape) #shape of the tensor"
   ]
  },
  {
   "cell_type": "code",
   "execution_count": 1240,
   "id": "bf6b3232",
   "metadata": {},
   "outputs": [
    {
     "data": {
      "text/plain": [
       "tensor([1, 0])"
      ]
     },
     "execution_count": 1240,
     "metadata": {},
     "output_type": "execute_result"
    }
   ],
   "source": [
    "#Vectors\n",
    "vectors = torch.tensor([1,0])\n",
    "vectors"
   ]
  },
  {
   "cell_type": "code",
   "execution_count": 1241,
   "id": "f6757315",
   "metadata": {},
   "outputs": [
    {
     "name": "stdout",
     "output_type": "stream",
     "text": [
      "1\n",
      "torch.Size([2])\n",
      "torch.int64\n"
     ]
    }
   ],
   "source": [
    "print(vectors.ndim)\n",
    "print(vectors.shape)\n",
    "print(vectors.dtype)"
   ]
  },
  {
   "cell_type": "code",
   "execution_count": 1242,
   "id": "5a57eab7",
   "metadata": {},
   "outputs": [
    {
     "name": "stdout",
     "output_type": "stream",
     "text": [
      "tensor([[1, 0],\n",
      "        [0, 1]])\n",
      "dimension 2\n"
     ]
    }
   ],
   "source": [
    "#Matrix\n",
    "matrix = torch.tensor([[1,0],[0,1]])\n",
    "print(matrix)\n",
    "print(\"dimension\", matrix.ndim)"
   ]
  },
  {
   "cell_type": "code",
   "execution_count": 1243,
   "id": "65908f33",
   "metadata": {},
   "outputs": [
    {
     "data": {
      "text/plain": [
       "torch.Size([2, 2])"
      ]
     },
     "execution_count": 1243,
     "metadata": {},
     "output_type": "execute_result"
    }
   ],
   "source": [
    "matrix.shape #umm 2 * 2 matrix"
   ]
  },
  {
   "cell_type": "code",
   "execution_count": 1244,
   "id": "caabd906",
   "metadata": {},
   "outputs": [
    {
     "data": {
      "text/plain": [
       "tensor([0, 1])"
      ]
     },
     "execution_count": 1244,
     "metadata": {},
     "output_type": "execute_result"
    }
   ],
   "source": [
    "matrix[0] #first row\n",
    "matrix[1] #second row"
   ]
  },
  {
   "cell_type": "code",
   "execution_count": 1245,
   "id": "e5731601",
   "metadata": {},
   "outputs": [
    {
     "name": "stdout",
     "output_type": "stream",
     "text": [
      "tensor([[[1, 2, 3],\n",
      "         [4, 5, 6],\n",
      "         [7, 8, 9]]])\n",
      "dimension 3\n",
      "shape torch.Size([1, 3, 3])\n"
     ]
    }
   ],
   "source": [
    "TENSOR = torch.tensor([[[1,2,3],\n",
    "                        [4,5,6],\n",
    "                        [7,8,9]]])\n",
    "print(TENSOR)\n",
    "print(\"dimension\", TENSOR.ndim)\n",
    "print(\"shape\", TENSOR.shape)"
   ]
  },
  {
   "cell_type": "code",
   "execution_count": 1246,
   "id": "f4e63f92",
   "metadata": {},
   "outputs": [
    {
     "name": "stdout",
     "output_type": "stream",
     "text": [
      "shape torch.Size([1, 3, 3])\n"
     ]
    }
   ],
   "source": [
    "print(\"shape\", TENSOR.shape)"
   ]
  },
  {
   "cell_type": "code",
   "execution_count": 1247,
   "id": "2361d04e",
   "metadata": {},
   "outputs": [
    {
     "data": {
      "text/plain": [
       "tensor([[1, 2, 3],\n",
       "        [4, 5, 6],\n",
       "        [7, 8, 9]])"
      ]
     },
     "execution_count": 1247,
     "metadata": {},
     "output_type": "execute_result"
    }
   ],
   "source": [
    "TENSOR[0] #first 2D matrix"
   ]
  },
  {
   "cell_type": "code",
   "execution_count": 1248,
   "id": "4f389fef",
   "metadata": {},
   "outputs": [
    {
     "data": {
      "text/plain": [
       "tensor([1, 2, 3])"
      ]
     },
     "execution_count": 1248,
     "metadata": {},
     "output_type": "execute_result"
    }
   ],
   "source": [
    "TENSOR[0][0] #first row of first 2D matrix"
   ]
  },
  {
   "cell_type": "markdown",
   "id": "59acac2e",
   "metadata": {},
   "source": [
    "Creating Randon Tensors "
   ]
  },
  {
   "cell_type": "code",
   "execution_count": 1249,
   "id": "f204959d",
   "metadata": {},
   "outputs": [
    {
     "name": "stdout",
     "output_type": "stream",
     "text": [
      "tensor([[0.9591, 0.4224, 0.7054, 0.5044],\n",
      "        [0.0648, 0.7291, 0.0405, 0.3937],\n",
      "        [0.5848, 0.5158, 0.8688, 0.2405]])\n",
      "dimension 2\n"
     ]
    }
   ],
   "source": [
    "random_tensor = torch.rand(3,4) #Creates a tensor with shape (3, 4)3 rows 4 columns  filled with random numbers from a uniform distribution over [0, 1)\n",
    "print(random_tensor)\n",
    "print(\"dimension\", random_tensor.ndim)"
   ]
  },
  {
   "cell_type": "code",
   "execution_count": 1250,
   "id": "f0362b9f",
   "metadata": {},
   "outputs": [
    {
     "name": "stdout",
     "output_type": "stream",
     "text": [
      "torch.Size([244, 244, 3])\n",
      "torch.Size([244, 244, 3])\n",
      "3\n"
     ]
    }
   ],
   "source": [
    "#create a random with similar shape to an image tensor\n",
    "\n",
    "random_image_size_tensor = torch.rand(size=(244,244,3)) #height, width, color channels(RGB)\n",
    "print(random_image_size_tensor.shape)\n",
    "print(random_image_size_tensor.shape)\n",
    "print(random_image_size_tensor.ndim)"
   ]
  },
  {
   "cell_type": "code",
   "execution_count": 1251,
   "id": "c09a02f0",
   "metadata": {},
   "outputs": [
    {
     "name": "stdout",
     "output_type": "stream",
     "text": [
      "tensor([[[[0.0925, 0.1328, 0.2051, 0.2147],\n",
      "          [0.1250, 0.6047, 0.1461, 0.9116],\n",
      "          [0.7135, 0.1143, 0.2194, 0.5607]],\n",
      "\n",
      "         [[0.3181, 0.5356, 0.6595, 0.8014],\n",
      "          [0.9416, 0.3473, 0.3600, 0.3279],\n",
      "          [0.4883, 0.3830, 0.7849, 0.1220]],\n",
      "\n",
      "         [[0.3320, 0.2977, 0.0148, 0.8379],\n",
      "          [0.0785, 0.0688, 0.9672, 0.1090],\n",
      "          [0.1643, 0.1968, 0.5490, 0.0799]],\n",
      "\n",
      "         [[0.6712, 0.4097, 0.3035, 0.8578],\n",
      "          [0.2306, 0.8254, 0.0347, 0.8293],\n",
      "          [0.5994, 0.5746, 0.2773, 0.1638]]]])\n",
      "torch.Size([1, 4, 3, 4])\n"
     ]
    }
   ],
   "source": [
    "random_num = torch.rand(1,4,3,4) # channel batch rows columns\n",
    "print(random_num)\n",
    "print(random_num.shape)"
   ]
  },
  {
   "cell_type": "markdown",
   "id": "20fe6f91",
   "metadata": {},
   "source": [
    "Creating tensor with Zeros and Ones "
   ]
  },
  {
   "cell_type": "code",
   "execution_count": 1252,
   "id": "bebc0a4d",
   "metadata": {},
   "outputs": [
    {
     "data": {
      "text/plain": [
       "tensor([[0., 0., 0.],\n",
       "        [0., 0., 0.],\n",
       "        [0., 0., 0.]])"
      ]
     },
     "execution_count": 1252,
     "metadata": {},
     "output_type": "execute_result"
    }
   ],
   "source": [
    "#create a tensor of all zeros\n",
    "\n",
    "zeros = torch.zeros(3,3)\n",
    "zeros"
   ]
  },
  {
   "cell_type": "code",
   "execution_count": 1253,
   "id": "a512d498",
   "metadata": {},
   "outputs": [
    {
     "data": {
      "text/plain": [
       "tensor([[1., 1., 1.],\n",
       "        [1., 1., 1.],\n",
       "        [1., 1., 1.]])"
      ]
     },
     "execution_count": 1253,
     "metadata": {},
     "output_type": "execute_result"
    }
   ],
   "source": [
    "#create a tensor of all ones\n",
    "ones = torch.ones(3,3)\n",
    "ones"
   ]
  },
  {
   "cell_type": "markdown",
   "id": "04aa02ba",
   "metadata": {},
   "source": [
    "creating a range/arange of tensors and tensor-like"
   ]
  },
  {
   "cell_type": "code",
   "execution_count": 1254,
   "id": "918f7b7f",
   "metadata": {},
   "outputs": [
    {
     "name": "stdout",
     "output_type": "stream",
     "text": [
      "tensor([0, 1, 2, 3, 4, 5, 6, 7, 8, 9])\n",
      "tensor([0, 3, 6, 9])\n"
     ]
    }
   ],
   "source": [
    "print(torch.arange(0,10)) #similar to python range but returns a tensor\n",
    "print(torch.arange(0,10,3)) #step size of 2"
   ]
  },
  {
   "cell_type": "code",
   "execution_count": 1255,
   "id": "56e0030d",
   "metadata": {},
   "outputs": [
    {
     "data": {
      "text/plain": [
       "tensor([  0,  10,  20,  30,  40,  50,  60,  70,  80,  90, 100, 110, 120, 130,\n",
       "        140, 150, 160, 170, 180, 190, 200, 210, 220, 230, 240, 250, 260, 270,\n",
       "        280, 290, 300, 310, 320, 330, 340, 350, 360, 370, 380, 390, 400, 410,\n",
       "        420, 430, 440, 450, 460, 470, 480, 490, 500, 510, 520, 530, 540, 550,\n",
       "        560, 570, 580, 590, 600, 610, 620, 630, 640, 650, 660, 670, 680, 690,\n",
       "        700, 710, 720, 730, 740, 750, 760, 770, 780, 790, 800, 810, 820, 830,\n",
       "        840, 850, 860, 870, 880, 890, 900, 910, 920, 930, 940, 950, 960, 970,\n",
       "        980, 990])"
      ]
     },
     "execution_count": 1255,
     "metadata": {},
     "output_type": "execute_result"
    }
   ],
   "source": [
    "random = torch.arange(start = 0, end = 1000, step = 10)\n",
    "random"
   ]
  },
  {
   "cell_type": "code",
   "execution_count": 1256,
   "id": "93ef93ed",
   "metadata": {},
   "outputs": [
    {
     "data": {
      "text/plain": [
       "tensor([0, 0, 0, 0, 0, 0, 0, 0, 0, 0, 0, 0, 0, 0, 0, 0, 0, 0, 0, 0, 0, 0, 0, 0,\n",
       "        0, 0, 0, 0, 0, 0, 0, 0, 0, 0, 0, 0, 0, 0, 0, 0, 0, 0, 0, 0, 0, 0, 0, 0,\n",
       "        0, 0, 0, 0, 0, 0, 0, 0, 0, 0, 0, 0, 0, 0, 0, 0, 0, 0, 0, 0, 0, 0, 0, 0,\n",
       "        0, 0, 0, 0, 0, 0, 0, 0, 0, 0, 0, 0, 0, 0, 0, 0, 0, 0, 0, 0, 0, 0, 0, 0,\n",
       "        0, 0, 0, 0])"
      ]
     },
     "execution_count": 1256,
     "metadata": {},
     "output_type": "execute_result"
    }
   ],
   "source": [
    "#creatig tensor like\n",
    "tensor_like = torch.zeros_like(random)\n",
    "tensor_like"
   ]
  },
  {
   "cell_type": "markdown",
   "id": "d2ae6908",
   "metadata": {},
   "source": [
    "dealing with tensors data types"
   ]
  },
  {
   "cell_type": "code",
   "execution_count": 1257,
   "id": "54fa4d0e",
   "metadata": {},
   "outputs": [
    {
     "name": "stdout",
     "output_type": "stream",
     "text": [
      "tensor([1., 2., 3.])\n",
      "torch.float32\n"
     ]
    }
   ],
   "source": [
    "#float 32 tensor\n",
    "float_32_tesnor = torch.tensor([1.0,2.0,3.0],\n",
    "                               dtype=None, #specify the data type you want your tensor to be\n",
    "                               device=None, #specify the device you want your tensor to be on\n",
    "                               requires_grad=False) #whether to track gradients for this tensor or not\n",
    "print(float_32_tesnor)\n",
    "print(float_32_tesnor.dtype)"
   ]
  },
  {
   "cell_type": "code",
   "execution_count": 1258,
   "id": "265c5ddb",
   "metadata": {},
   "outputs": [
    {
     "data": {
      "text/plain": [
       "tensor([1., 2., 3.], dtype=torch.float16)"
      ]
     },
     "execution_count": 1258,
     "metadata": {},
     "output_type": "execute_result"
    }
   ],
   "source": [
    "float_16_tensor = float_32_tesnor.type(torch.half)\n",
    "float_16_tensor"
   ]
  },
  {
   "cell_type": "code",
   "execution_count": 1259,
   "id": "00bc1bdd",
   "metadata": {},
   "outputs": [
    {
     "data": {
      "text/plain": [
       "tensor([1., 2., 3.], dtype=torch.float64)"
      ]
     },
     "execution_count": 1259,
     "metadata": {},
     "output_type": "execute_result"
    }
   ],
   "source": [
    "float_64_tensor = float_32_tesnor.type(torch.double)\n",
    "float_64_tensor"
   ]
  },
  {
   "cell_type": "code",
   "execution_count": 1260,
   "id": "60a98675",
   "metadata": {},
   "outputs": [
    {
     "data": {
      "text/plain": [
       "tensor([1., 4., 9.], dtype=torch.float64)"
      ]
     },
     "execution_count": 1260,
     "metadata": {},
     "output_type": "execute_result"
    }
   ],
   "source": [
    "float_16_tensor * float_64_tensor"
   ]
  },
  {
   "cell_type": "code",
   "execution_count": 1261,
   "id": "0b31f2ba",
   "metadata": {},
   "outputs": [
    {
     "data": {
      "text/plain": [
       "tensor([1, 2, 3], dtype=torch.int32)"
      ]
     },
     "execution_count": 1261,
     "metadata": {},
     "output_type": "execute_result"
    }
   ],
   "source": [
    "int_32_tensor = torch.tensor([1,2,3], dtype=torch.int32)\n",
    "int_32_tensor"
   ]
  },
  {
   "cell_type": "code",
   "execution_count": 1262,
   "id": "083b0b73",
   "metadata": {},
   "outputs": [
    {
     "data": {
      "text/plain": [
       "tensor([1., 4., 9.])"
      ]
     },
     "execution_count": 1262,
     "metadata": {},
     "output_type": "execute_result"
    }
   ],
   "source": [
    "int_32_tensor * float_32_tesnor"
   ]
  },
  {
   "cell_type": "markdown",
   "id": "98cfeefa",
   "metadata": {},
   "source": [
    "Getting info from tensor"
   ]
  },
  {
   "cell_type": "code",
   "execution_count": 1263,
   "id": "b317b905",
   "metadata": {},
   "outputs": [
    {
     "name": "stdout",
     "output_type": "stream",
     "text": [
      "tensor([[0.1927, 0.4599, 0.7057, 0.7018],\n",
      "        [0.6028, 0.3441, 0.0122, 0.3412],\n",
      "        [0.0384, 0.8212, 0.7018, 0.8050]])\n",
      "Shape of tensor torch.Size([3, 4])\n",
      "data type of tensor torch.Size([3, 4])\n",
      "device of tensor cpu\n",
      "dimension of tensor 2\n"
     ]
    }
   ],
   "source": [
    "some_tensor = torch.rand(3,4)\n",
    "print(some_tensor)\n",
    "\n",
    "#find out some details abot the given above tensor\n",
    "print(\"Shape of tensor\", some_tensor.shape)\n",
    "print(\"data type of tensor\", some_tensor.shape)\n",
    "print(\"device of tensor\", some_tensor.device)\n",
    "print(\"dimension of tensor\", some_tensor.ndim)"
   ]
  },
  {
   "cell_type": "markdown",
   "id": "03b4326a",
   "metadata": {},
   "source": [
    "Manipulaing Tensors (Tensors Operations)"
   ]
  },
  {
   "cell_type": "code",
   "execution_count": 1264,
   "id": "a4c77f8a",
   "metadata": {},
   "outputs": [
    {
     "data": {
      "text/plain": [
       "tensor([101, 102, 103])"
      ]
     },
     "execution_count": 1264,
     "metadata": {},
     "output_type": "execute_result"
    }
   ],
   "source": [
    "tensor = torch.tensor([1,2,3])\n",
    "tensor + 100\n"
   ]
  },
  {
   "cell_type": "code",
   "execution_count": 1265,
   "id": "78936178",
   "metadata": {},
   "outputs": [
    {
     "data": {
      "text/plain": [
       "tensor([100, 200, 300])"
      ]
     },
     "execution_count": 1265,
     "metadata": {},
     "output_type": "execute_result"
    }
   ],
   "source": [
    "#multiply\n",
    "tensor * 100"
   ]
  },
  {
   "cell_type": "code",
   "execution_count": 1266,
   "id": "77c88677",
   "metadata": {},
   "outputs": [
    {
     "data": {
      "text/plain": [
       "tensor([-9, -8, -7])"
      ]
     },
     "execution_count": 1266,
     "metadata": {},
     "output_type": "execute_result"
    }
   ],
   "source": [
    "#subtract\n",
    "tensor - 10"
   ]
  },
  {
   "cell_type": "markdown",
   "id": "71cd5283",
   "metadata": {},
   "source": [
    "Matrix Multiplication"
   ]
  },
  {
   "cell_type": "code",
   "execution_count": 1267,
   "id": "88a55d8f",
   "metadata": {},
   "outputs": [
    {
     "name": "stdout",
     "output_type": "stream",
     "text": [
      "tensor([ 4, 16, 36])\n"
     ]
    }
   ],
   "source": [
    "#element wise multiplication\n",
    "tesnsor = torch.tensor(  [2,4,6])\n",
    "print(tesnsor * tesnsor)"
   ]
  },
  {
   "cell_type": "code",
   "execution_count": 1268,
   "id": "96584ae0",
   "metadata": {},
   "outputs": [
    {
     "name": "stdout",
     "output_type": "stream",
     "text": [
      "tensor([ 4, 16, 36])\n"
     ]
    }
   ],
   "source": [
    "#element wise multiplication\n",
    "tesnsor = torch.tensor([2,4,6])\n",
    "print(tesnsor * tesnsor)"
   ]
  },
  {
   "cell_type": "code",
   "execution_count": 1269,
   "id": "046f2dbc",
   "metadata": {},
   "outputs": [
    {
     "name": "stdout",
     "output_type": "stream",
     "text": [
      "tensor(56)\n"
     ]
    }
   ],
   "source": [
    "#matrix multiplication\n",
    "print(tesnsor.matmul(tesnsor)) #dot product"
   ]
  },
  {
   "cell_type": "markdown",
   "id": "fe066668",
   "metadata": {},
   "source": [
    "there are two main rule of performing matrix multiplication\n",
    "1. the inner dimension must match \n",
    "(3,2)  @  (3,2) won't work\n",
    "(2,3)  @  (3,2) will work\n",
    "(3,2)  @  (2,3) will work\n",
    "\n",
    "2. the resulting matrix has the shape of the outer dimension\n",
    "   (3,2)  @  (3,2)  -> (2,2)"
   ]
  },
  {
   "cell_type": "code",
   "execution_count": 1270,
   "id": "001fa20a",
   "metadata": {},
   "outputs": [],
   "source": [
    "#torch.matmul(torch.rand(3,2), torch.rand(3,2)) #error because shapes are not aligned"
   ]
  },
  {
   "cell_type": "code",
   "execution_count": 1271,
   "id": "843a03bb",
   "metadata": {},
   "outputs": [
    {
     "data": {
      "text/plain": [
       "tensor([[0.7414, 0.7554, 0.5206],\n",
       "        [1.3498, 1.0929, 0.7385],\n",
       "        [0.9839, 0.7949, 0.5370]])"
      ]
     },
     "execution_count": 1271,
     "metadata": {},
     "output_type": "execute_result"
    }
   ],
   "source": [
    "torch.matmul(torch.rand(3,2), torch.rand(2,3)) #correct shapes"
   ]
  },
  {
   "cell_type": "code",
   "execution_count": 1272,
   "id": "1438827e",
   "metadata": {},
   "outputs": [
    {
     "data": {
      "text/plain": [
       "tensor([[1.6444, 1.4263, 1.8225],\n",
       "        [1.0931, 0.8177, 1.4345],\n",
       "        [0.8177, 0.9506, 1.3972]])"
      ]
     },
     "execution_count": 1272,
     "metadata": {},
     "output_type": "execute_result"
    }
   ],
   "source": [
    "torch.matmul(torch.rand(3,4),torch.rand(4,3))"
   ]
  },
  {
   "cell_type": "code",
   "execution_count": 1273,
   "id": "e70f4bf4",
   "metadata": {},
   "outputs": [
    {
     "name": "stdout",
     "output_type": "stream",
     "text": [
      "tensor([[0.5078, 0.3799, 0.6447, 0.6982, 0.2480, 0.9556],\n",
      "        [0.7051, 0.5089, 0.8641, 0.7098, 0.3313, 1.1881],\n",
      "        [0.6769, 0.4593, 0.9499, 0.5358, 0.4757, 1.1123],\n",
      "        [0.1919, 0.1310, 0.2633, 0.1880, 0.1244, 0.3165],\n",
      "        [1.4950, 0.9953, 1.9045, 1.4690, 0.7944, 2.2064],\n",
      "        [0.9975, 0.6289, 1.3649, 0.8344, 0.6566, 1.3909]])\n"
     ]
    },
    {
     "data": {
      "text/plain": [
       "torch.Size([6, 6])"
      ]
     },
     "execution_count": 1273,
     "metadata": {},
     "output_type": "execute_result"
    }
   ],
   "source": [
    "tensor = torch.matmul(torch.rand(6,4),torch.rand(4,6))\n",
    "print(tensor)\n",
    "tensor.shape"
   ]
  },
  {
   "cell_type": "markdown",
   "id": "607f3f57",
   "metadata": {},
   "source": [
    "Dealing wit **Shape Errors**"
   ]
  },
  {
   "cell_type": "code",
   "execution_count": 1274,
   "id": "64604c4e",
   "metadata": {},
   "outputs": [],
   "source": [
    "# tensor_a = torch.tensor([[1,2],\n",
    "#                          [3,4],\n",
    "#                          [5,6]])\n",
    "\n",
    "# tensor_b = torch.tensor([[3,6],\n",
    "#                          [9,12],\n",
    "#                          [15,18]])\n",
    "\n",
    "# tesnsor\n",
    "# torch.matmul(tensor_a, tensor_b) #error because shapes are not aligned\n",
    "# #torch.mm(tensor_a, tensor_b) #works same as torch as matmul \n",
    "\n"
   ]
  },
  {
   "cell_type": "markdown",
   "id": "d4b45b60",
   "metadata": {},
   "source": [
    "to fix these tesnor shape error or isues, we can manipulate the shape of one of the tensor using a **Transpose**"
   ]
  },
  {
   "cell_type": "code",
   "execution_count": 1275,
   "id": "b0b4afed",
   "metadata": {},
   "outputs": [
    {
     "data": {
      "text/plain": [
       "tensor([[ 15,  33,  51],\n",
       "        [ 33,  75, 117],\n",
       "        [ 51, 117, 183]])"
      ]
     },
     "execution_count": 1275,
     "metadata": {},
     "output_type": "execute_result"
    }
   ],
   "source": [
    "tensor_a = torch.tensor([[1,2],\n",
    "                         [3,4],\n",
    "                         [5,6]])\n",
    "\n",
    "tensor_b = torch.tensor([[3,6],\n",
    "                         [9,12],\n",
    "                         [15,18]])\n",
    "\n",
    "tesnsor\n",
    "torch.matmul(tensor_a, tensor_b.T) #transpose switches the axes or the dimensions of the given tensor\n",
    "#torch.mm(tensor_a, tensor_b) #works same as torch as matmul \n",
    "\n"
   ]
  },
  {
   "cell_type": "code",
   "execution_count": 1276,
   "id": "2216c9e6",
   "metadata": {},
   "outputs": [
    {
     "name": "stdout",
     "output_type": "stream",
     "text": [
      "tensor([[ 3,  9, 15],\n",
      "        [ 6, 12, 18]])\n"
     ]
    }
   ],
   "source": [
    "print(tensor_b.T)"
   ]
  },
  {
   "cell_type": "markdown",
   "id": "7f9fe0cd",
   "metadata": {},
   "source": [
    "Finding the **Mean** **Max** and **Sum of Tensors** (Tensor Aggregation)"
   ]
  },
  {
   "cell_type": "code",
   "execution_count": 1277,
   "id": "114ec496",
   "metadata": {},
   "outputs": [
    {
     "name": "stdout",
     "output_type": "stream",
     "text": [
      "tensor([ 1, 11, 21, 31, 41, 51, 61, 71, 81, 91])\n"
     ]
    },
    {
     "data": {
      "text/plain": [
       "torch.int64"
      ]
     },
     "execution_count": 1277,
     "metadata": {},
     "output_type": "execute_result"
    }
   ],
   "source": [
    "x = torch.arange(1,100, 10)\n",
    "print(x)\n",
    "x.dtype"
   ]
  },
  {
   "cell_type": "code",
   "execution_count": 1278,
   "id": "01b1390e",
   "metadata": {},
   "outputs": [
    {
     "data": {
      "text/plain": [
       "tensor(1)"
      ]
     },
     "execution_count": 1278,
     "metadata": {},
     "output_type": "execute_result"
    }
   ],
   "source": [
    "x.min() #minimum value of the tensor"
   ]
  },
  {
   "cell_type": "code",
   "execution_count": 1279,
   "id": "0624725e",
   "metadata": {},
   "outputs": [
    {
     "data": {
      "text/plain": [
       "tensor(91)"
      ]
     },
     "execution_count": 1279,
     "metadata": {},
     "output_type": "execute_result"
    }
   ],
   "source": [
    "x.max() #maximum value of the tensor"
   ]
  },
  {
   "cell_type": "code",
   "execution_count": 1280,
   "id": "578dc0ef",
   "metadata": {},
   "outputs": [
    {
     "data": {
      "text/plain": [
       "tensor(46.)"
      ]
     },
     "execution_count": 1280,
     "metadata": {},
     "output_type": "execute_result"
    }
   ],
   "source": [
    "#the torch.mean() function only works on float tensors not with int(it will throw an error)\n",
    "torch.mean(x.type(torch.float32)) #mean value of the tensor"
   ]
  },
  {
   "cell_type": "code",
   "execution_count": 1281,
   "id": "36929fed",
   "metadata": {},
   "outputs": [
    {
     "data": {
      "text/plain": [
       "(tensor(460), tensor(460))"
      ]
     },
     "execution_count": 1281,
     "metadata": {},
     "output_type": "execute_result"
    }
   ],
   "source": [
    "torch.sum(x), x.sum() #sum of all the values of the tensor"
   ]
  },
  {
   "cell_type": "markdown",
   "id": "bb1d5013",
   "metadata": {},
   "source": [
    "Finding the **Positional Min and Max** of tensors"
   ]
  },
  {
   "cell_type": "code",
   "execution_count": 1282,
   "id": "eba20cfc",
   "metadata": {},
   "outputs": [
    {
     "name": "stdout",
     "output_type": "stream",
     "text": [
      "tensor(0)\n",
      "tensor(9)\n"
     ]
    }
   ],
   "source": [
    "#finding the positional miin and max\n",
    "x\n",
    "print(x.argmin()) #argmin returns the index of the minimum value in the tensor\n",
    "print(x.argmax()) #argmax returns the index of the maximum value in the tensor"
   ]
  },
  {
   "cell_type": "markdown",
   "id": "5c2ec9e4",
   "metadata": {},
   "source": [
    "**Reshaping Viewing and Stacking  Squeezing Unsqueezing Tensors**\n",
    "1. Reshaping - reshapes and imnput tensors to a defined shape\n",
    "2. View - return a view of an input tensor of certain shape but keep the memory as the original tensor\n",
    "3. Stacking - combine multiple tensors on top of each other (vstack) or side by side (hstack)\n",
    "4. Sqeeze - rempves all `1` dimension forn a tensor\n",
    "5. Unsqueeze - add a `1` dimension to a target tensor\n",
    "6. Permute - return a view if the input with dimension permuted in a certain way"
   ]
  },
  {
   "cell_type": "code",
   "execution_count": 1283,
   "id": "cf8943fe",
   "metadata": {},
   "outputs": [
    {
     "data": {
      "text/plain": [
       "(tensor([1., 2., 3., 4., 5., 6., 7., 8., 9.]), torch.Size([9]))"
      ]
     },
     "execution_count": 1283,
     "metadata": {},
     "output_type": "execute_result"
    }
   ],
   "source": [
    "y = torch.arange(1., 10.)\n",
    "y, y.shape"
   ]
  },
  {
   "cell_type": "code",
   "execution_count": 1284,
   "id": "e82654f4",
   "metadata": {},
   "outputs": [
    {
     "data": {
      "text/plain": [
       "(tensor([[1.],\n",
       "         [2.],\n",
       "         [3.],\n",
       "         [4.],\n",
       "         [5.],\n",
       "         [6.],\n",
       "         [7.],\n",
       "         [8.],\n",
       "         [9.]]),\n",
       " torch.Size([9, 1]))"
      ]
     },
     "execution_count": 1284,
     "metadata": {},
     "output_type": "execute_result"
    }
   ],
   "source": [
    "y_reshaped_1 = y.reshape(9,1)\n",
    "y_reshaped_1, y_reshaped_1.shape"
   ]
  },
  {
   "cell_type": "code",
   "execution_count": 1285,
   "id": "653faf91",
   "metadata": {},
   "outputs": [
    {
     "data": {
      "text/plain": [
       "(tensor([[1., 2., 3.],\n",
       "         [4., 5., 6.],\n",
       "         [7., 8., 9.]]),\n",
       " torch.Size([3, 3]))"
      ]
     },
     "execution_count": 1285,
     "metadata": {},
     "output_type": "execute_result"
    }
   ],
   "source": [
    "#add an extra dimension\n",
    "y_reshaped = y.reshape(3,3)\n",
    "y_reshaped_1 = y.reshape(9,1)\n",
    "y_reshaped, y_reshaped.shape"
   ]
  },
  {
   "cell_type": "code",
   "execution_count": 1286,
   "id": "ce781e9e",
   "metadata": {},
   "outputs": [
    {
     "data": {
      "text/plain": [
       "(tensor([[1., 2., 3., 4., 5., 6., 7., 8., 9.]]), torch.Size([1, 9]))"
      ]
     },
     "execution_count": 1286,
     "metadata": {},
     "output_type": "execute_result"
    }
   ],
   "source": [
    "#change the view\n",
    "\"\"\"changing z changes x because a view is just a different way of looking at the same data,or share the same memory as the original tensor\"\"\"\n",
    "z = y.view(1,9)\n",
    "z, z.shape"
   ]
  },
  {
   "cell_type": "code",
   "execution_count": 1287,
   "id": "a41b8041",
   "metadata": {},
   "outputs": [
    {
     "data": {
      "text/plain": [
       "(tensor([[1., 2., 3., 4., 5., 6., 7., 8., 9.],\n",
       "         [1., 2., 3., 4., 5., 6., 7., 8., 9.],\n",
       "         [1., 2., 3., 4., 5., 6., 7., 8., 9.],\n",
       "         [1., 2., 3., 4., 5., 6., 7., 8., 9.]]),\n",
       " torch.Size([4, 9]))"
      ]
     },
     "execution_count": 1287,
     "metadata": {},
     "output_type": "execute_result"
    }
   ],
   "source": [
    "#stack tensor on top of each other\n",
    "y_stacked = torch.stack([y,y,y,y],dim=0) #dim=0 means stack along the rows\n",
    "y_stacked, y_stacked.shape  "
   ]
  },
  {
   "cell_type": "code",
   "execution_count": 1288,
   "id": "f8b10d1d",
   "metadata": {},
   "outputs": [
    {
     "data": {
      "text/plain": [
       "(tensor([[1., 1., 1., 1.],\n",
       "         [2., 2., 2., 2.],\n",
       "         [3., 3., 3., 3.],\n",
       "         [4., 4., 4., 4.],\n",
       "         [5., 5., 5., 5.],\n",
       "         [6., 6., 6., 6.],\n",
       "         [7., 7., 7., 7.],\n",
       "         [8., 8., 8., 8.],\n",
       "         [9., 9., 9., 9.]]),\n",
       " torch.Size([9, 4]))"
      ]
     },
     "execution_count": 1288,
     "metadata": {},
     "output_type": "execute_result"
    }
   ],
   "source": [
    "#stack tensor on top of each other\n",
    "y_stacked = torch.stack([y,y,y,y],dim=1) #dim=1 means stack along the columns\n",
    "y_stacked, y_stacked.shape  "
   ]
  },
  {
   "cell_type": "code",
   "execution_count": 1289,
   "id": "dbea3049",
   "metadata": {},
   "outputs": [
    {
     "data": {
      "text/plain": [
       "tensor([[1., 2., 3.],\n",
       "        [4., 5., 6.],\n",
       "        [7., 8., 9.]])"
      ]
     },
     "execution_count": 1289,
     "metadata": {},
     "output_type": "execute_result"
    }
   ],
   "source": [
    "y_reshaped.squeeze()"
   ]
  },
  {
   "cell_type": "code",
   "execution_count": 1290,
   "id": "e71b1aa6",
   "metadata": {},
   "outputs": [
    {
     "data": {
      "text/plain": [
       "(tensor([1., 2., 3., 4., 5., 6., 7., 8., 9.]), torch.Size([9]))"
      ]
     },
     "execution_count": 1290,
     "metadata": {},
     "output_type": "execute_result"
    }
   ],
   "source": [
    "#squeeze and unsqueeze\n",
    "y_squeeze = torch.squeeze(y_reshaped_1) #removes all the dimensions of size 1\n",
    "y_squeeze, y_squeeze.shape"
   ]
  },
  {
   "cell_type": "code",
   "execution_count": 1291,
   "id": "2306e71e",
   "metadata": {},
   "outputs": [
    {
     "data": {
      "text/plain": [
       "(tensor([[1., 2., 3., 4., 5., 6., 7., 8., 9.]]), torch.Size([1, 9]))"
      ]
     },
     "execution_count": 1291,
     "metadata": {},
     "output_type": "execute_result"
    }
   ],
   "source": [
    "y_unsqueezed = torch.unsqueeze(y_squeeze, dim=0) #adds a dimension of size 1 at the specified position\n",
    "y_unsqueezed, y_unsqueezed.shape"
   ]
  },
  {
   "cell_type": "code",
   "execution_count": 1292,
   "id": "a0f36ab4",
   "metadata": {},
   "outputs": [
    {
     "data": {
      "text/plain": [
       "(torch.Size([3, 224, 224]),\n",
       " tensor([[[0.9467, 0.7480, 0.8142,  ..., 0.7022, 0.6189, 0.8731],\n",
       "          [0.4445, 0.9313, 0.9189,  ..., 0.4588, 0.4528, 0.4525],\n",
       "          [0.2870, 0.2069, 0.4683,  ..., 0.6502, 0.7546, 0.8193],\n",
       "          ...,\n",
       "          [0.7436, 0.7569, 0.4935,  ..., 0.9603, 0.0899, 0.6752],\n",
       "          [0.1705, 0.9681, 0.8288,  ..., 0.5319, 0.2710, 0.0156],\n",
       "          [0.5096, 0.3758, 0.3326,  ..., 0.3429, 0.9563, 0.1946]],\n",
       " \n",
       "         [[0.8424, 0.4291, 0.6406,  ..., 0.2497, 0.8890, 0.2102],\n",
       "          [0.7909, 0.5114, 0.0199,  ..., 0.6389, 0.7965, 0.9386],\n",
       "          [0.9125, 0.3911, 0.5130,  ..., 0.1579, 0.9405, 0.0748],\n",
       "          ...,\n",
       "          [0.2437, 0.9041, 0.0261,  ..., 0.6888, 0.7558, 0.3840],\n",
       "          [0.7747, 0.1183, 0.4417,  ..., 0.6836, 0.7402, 0.0618],\n",
       "          [0.5363, 0.6903, 0.0744,  ..., 0.1755, 0.5053, 0.4378]],\n",
       " \n",
       "         [[0.3362, 0.9307, 0.2442,  ..., 0.4559, 0.6214, 0.4774],\n",
       "          [0.6942, 0.5951, 0.8282,  ..., 0.5141, 0.9440, 0.3659],\n",
       "          [0.4033, 0.9027, 0.3460,  ..., 0.2560, 0.2450, 0.6041],\n",
       "          ...,\n",
       "          [0.5621, 0.9190, 0.0093,  ..., 0.3849, 0.6144, 0.6100],\n",
       "          [0.8576, 0.4537, 0.9888,  ..., 0.4411, 0.6849, 0.2327],\n",
       "          [0.2077, 0.3415, 0.0524,  ..., 0.3292, 0.4190, 0.4609]]]))"
      ]
     },
     "execution_count": 1292,
     "metadata": {},
     "output_type": "execute_result"
    }
   ],
   "source": [
    "#permute rearanges the dimension of target tensor in a specified order\n",
    "x_original = torch.rand(224,224,3)\n",
    "x_original.shape\n",
    "#permute the original tensor to change the order of dimensions\n",
    "x_permuted = x_original.permute(2,0,1) #from (height, width, color channels) to (color channels, height, width)\n",
    "x_permuted.shape, x_permuted"
   ]
  },
  {
   "cell_type": "markdown",
   "id": "015949d4",
   "metadata": {},
   "source": [
    "**Indexing**"
   ]
  },
  {
   "cell_type": "code",
   "execution_count": 1293,
   "id": "810281be",
   "metadata": {},
   "outputs": [
    {
     "data": {
      "text/plain": [
       "tensor([[[1., 2., 3.],\n",
       "         [4., 5., 6.],\n",
       "         [7., 8., 9.]]])"
      ]
     },
     "execution_count": 1293,
     "metadata": {},
     "output_type": "execute_result"
    }
   ],
   "source": [
    "x = torch.arange(1.,10.).reshape(1,3,3)\n",
    "x"
   ]
  },
  {
   "cell_type": "code",
   "execution_count": 1294,
   "id": "9fd9f80c",
   "metadata": {},
   "outputs": [
    {
     "data": {
      "text/plain": [
       "tensor([[1., 2., 3.],\n",
       "        [4., 5., 6.],\n",
       "        [7., 8., 9.]])"
      ]
     },
     "execution_count": 1294,
     "metadata": {},
     "output_type": "execute_result"
    }
   ],
   "source": [
    "x[0] #first 2D matrix"
   ]
  },
  {
   "cell_type": "code",
   "execution_count": 1295,
   "id": "bb069a85",
   "metadata": {},
   "outputs": [
    {
     "data": {
      "text/plain": [
       "tensor([1., 2., 3.])"
      ]
     },
     "execution_count": 1295,
     "metadata": {},
     "output_type": "execute_result"
    }
   ],
   "source": [
    "x[0][0] #first row of first 2D matrix"
   ]
  },
  {
   "cell_type": "code",
   "execution_count": 1296,
   "id": "a7baa8eb",
   "metadata": {},
   "outputs": [
    {
     "data": {
      "text/plain": [
       "tensor([4., 5., 6.])"
      ]
     },
     "execution_count": 1296,
     "metadata": {},
     "output_type": "execute_result"
    }
   ],
   "source": [
    "x[0][1] #second row of first 2D matrix"
   ]
  },
  {
   "cell_type": "code",
   "execution_count": 1297,
   "id": "1f9af32d",
   "metadata": {},
   "outputs": [
    {
     "data": {
      "text/plain": [
       "tensor(3.)"
      ]
     },
     "execution_count": 1297,
     "metadata": {},
     "output_type": "execute_result"
    }
   ],
   "source": [
    "x[0][0][2]"
   ]
  },
  {
   "cell_type": "code",
   "execution_count": 1298,
   "id": "8aa5739a",
   "metadata": {},
   "outputs": [
    {
     "data": {
      "text/plain": [
       "tensor(6.)"
      ]
     },
     "execution_count": 1298,
     "metadata": {},
     "output_type": "execute_result"
    }
   ],
   "source": [
    "x[0][1][2]"
   ]
  },
  {
   "cell_type": "code",
   "execution_count": 1299,
   "id": "5fc62482",
   "metadata": {},
   "outputs": [
    {
     "data": {
      "text/plain": [
       "tensor(9.)"
      ]
     },
     "execution_count": 1299,
     "metadata": {},
     "output_type": "execute_result"
    }
   ],
   "source": [
    "x[0][2][2]"
   ]
  }
 ],
 "metadata": {
  "kernelspec": {
   "display_name": "venv",
   "language": "python",
   "name": "python3"
  },
  "language_info": {
   "codemirror_mode": {
    "name": "ipython",
    "version": 3
   },
   "file_extension": ".py",
   "mimetype": "text/x-python",
   "name": "python",
   "nbconvert_exporter": "python",
   "pygments_lexer": "ipython3",
   "version": "3.11.9"
  }
 },
 "nbformat": 4,
 "nbformat_minor": 5
}
