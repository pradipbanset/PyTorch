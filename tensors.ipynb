{
 "cells": [
  {
   "cell_type": "code",
   "execution_count": 1,
   "id": "d44c83e2",
   "metadata": {},
   "outputs": [],
   "source": [
    "import torch\n",
    "import pandas as pd\n",
    "import numpy as np \n",
    "import matplotlib.pyplot as plt \n",
    "# print(torch.__version__)"
   ]
  },
  {
   "cell_type": "markdown",
   "id": "cd2befaa",
   "metadata": {},
   "source": [
    "creating tensors"
   ]
  },
  {
   "cell_type": "code",
   "execution_count": 2,
   "id": "f95623ea",
   "metadata": {},
   "outputs": [
    {
     "data": {
      "text/plain": [
       "tensor(7)"
      ]
     },
     "execution_count": 2,
     "metadata": {},
     "output_type": "execute_result"
    }
   ],
   "source": [
    "#scalar\n",
    "scalars = torch.tensor(7)\n",
    "scalars"
   ]
  },
  {
   "cell_type": "code",
   "execution_count": 3,
   "id": "a8d8b190",
   "metadata": {},
   "outputs": [
    {
     "name": "stdout",
     "output_type": "stream",
     "text": [
      "dimension 0\n",
      "normal value of tensor 7\n",
      "datatype torch.int64\n",
      "shape of the tensor torch.Size([])\n"
     ]
    }
   ],
   "source": [
    "print(\"dimension\",scalars.ndim) #number of dimensions\n",
    "print(\"normal value of tensor\", scalars.item()) #get the value of a scalar tensor as a standard Python number\n",
    "print(\"datatype\", scalars.dtype) #data type of the tensor\n",
    "print(\"shape of the tensor\", scalars.shape) #shape of the tensor"
   ]
  },
  {
   "cell_type": "code",
   "execution_count": 4,
   "id": "bf6b3232",
   "metadata": {},
   "outputs": [
    {
     "data": {
      "text/plain": [
       "tensor([1, 0])"
      ]
     },
     "execution_count": 4,
     "metadata": {},
     "output_type": "execute_result"
    }
   ],
   "source": [
    "#Vectors\n",
    "vectors = torch.tensor([1,0])\n",
    "vectors"
   ]
  },
  {
   "cell_type": "code",
   "execution_count": 5,
   "id": "f6757315",
   "metadata": {},
   "outputs": [
    {
     "name": "stdout",
     "output_type": "stream",
     "text": [
      "1\n",
      "torch.Size([2])\n",
      "torch.int64\n"
     ]
    }
   ],
   "source": [
    "print(vectors.ndim)\n",
    "print(vectors.shape)\n",
    "print(vectors.dtype)"
   ]
  },
  {
   "cell_type": "code",
   "execution_count": 6,
   "id": "5a57eab7",
   "metadata": {},
   "outputs": [
    {
     "name": "stdout",
     "output_type": "stream",
     "text": [
      "tensor([[1, 0],\n",
      "        [0, 1]])\n",
      "dimension 2\n"
     ]
    }
   ],
   "source": [
    "#Matrix\n",
    "matrix = torch.tensor([[1,0],[0,1]])\n",
    "print(matrix)\n",
    "print(\"dimension\", matrix.ndim)"
   ]
  },
  {
   "cell_type": "code",
   "execution_count": 7,
   "id": "65908f33",
   "metadata": {},
   "outputs": [
    {
     "data": {
      "text/plain": [
       "torch.Size([2, 2])"
      ]
     },
     "execution_count": 7,
     "metadata": {},
     "output_type": "execute_result"
    }
   ],
   "source": [
    "matrix.shape #umm 2 * 2 matrix"
   ]
  },
  {
   "cell_type": "code",
   "execution_count": 8,
   "id": "caabd906",
   "metadata": {},
   "outputs": [
    {
     "data": {
      "text/plain": [
       "tensor([0, 1])"
      ]
     },
     "execution_count": 8,
     "metadata": {},
     "output_type": "execute_result"
    }
   ],
   "source": [
    "matrix[0] #first row\n",
    "matrix[1] #second row"
   ]
  },
  {
   "cell_type": "code",
   "execution_count": 9,
   "id": "e5731601",
   "metadata": {},
   "outputs": [
    {
     "name": "stdout",
     "output_type": "stream",
     "text": [
      "tensor([[[1, 2, 3],\n",
      "         [4, 5, 6],\n",
      "         [7, 8, 9]]])\n",
      "dimension 3\n",
      "shape torch.Size([1, 3, 3])\n"
     ]
    }
   ],
   "source": [
    "TENSOR = torch.tensor([[[1,2,3],\n",
    "                        [4,5,6],\n",
    "                        [7,8,9]]])\n",
    "print(TENSOR)\n",
    "print(\"dimension\", TENSOR.ndim)\n",
    "print(\"shape\", TENSOR.shape)"
   ]
  },
  {
   "cell_type": "code",
   "execution_count": 10,
   "id": "f4e63f92",
   "metadata": {},
   "outputs": [
    {
     "name": "stdout",
     "output_type": "stream",
     "text": [
      "shape torch.Size([1, 3, 3])\n"
     ]
    }
   ],
   "source": [
    "print(\"shape\", TENSOR.shape)"
   ]
  },
  {
   "cell_type": "code",
   "execution_count": 11,
   "id": "2361d04e",
   "metadata": {},
   "outputs": [
    {
     "data": {
      "text/plain": [
       "tensor([[1, 2, 3],\n",
       "        [4, 5, 6],\n",
       "        [7, 8, 9]])"
      ]
     },
     "execution_count": 11,
     "metadata": {},
     "output_type": "execute_result"
    }
   ],
   "source": [
    "TENSOR[0] #first 2D matrix"
   ]
  },
  {
   "cell_type": "code",
   "execution_count": 12,
   "id": "4f389fef",
   "metadata": {},
   "outputs": [
    {
     "data": {
      "text/plain": [
       "tensor([1, 2, 3])"
      ]
     },
     "execution_count": 12,
     "metadata": {},
     "output_type": "execute_result"
    }
   ],
   "source": [
    "TENSOR[0][0] #first row of first 2D matrix"
   ]
  },
  {
   "cell_type": "markdown",
   "id": "59acac2e",
   "metadata": {},
   "source": [
    "Creating Randon Tensors "
   ]
  },
  {
   "cell_type": "code",
   "execution_count": 13,
   "id": "f204959d",
   "metadata": {},
   "outputs": [
    {
     "name": "stdout",
     "output_type": "stream",
     "text": [
      "tensor([[0.2607, 0.2876, 0.1947, 0.0930],\n",
      "        [0.0535, 0.1783, 0.6750, 0.3666],\n",
      "        [0.7145, 0.4088, 0.9798, 0.8121]])\n",
      "dimension 2\n"
     ]
    }
   ],
   "source": [
    "random_tensor = torch.rand(3,4) #Creates a tensor with shape (3, 4)3 rows 4 columns  filled with random numbers from a uniform distribution over [0, 1)\n",
    "print(random_tensor)\n",
    "print(\"dimension\", random_tensor.ndim)"
   ]
  },
  {
   "cell_type": "code",
   "execution_count": 14,
   "id": "f0362b9f",
   "metadata": {},
   "outputs": [
    {
     "name": "stdout",
     "output_type": "stream",
     "text": [
      "torch.Size([244, 244, 3])\n",
      "torch.Size([244, 244, 3])\n",
      "3\n"
     ]
    }
   ],
   "source": [
    "#create a random with similar shape to an image tensor\n",
    "\n",
    "random_image_size_tensor = torch.rand(size=(244,244,3)) #height, width, color channels(RGB)\n",
    "print(random_image_size_tensor.shape)\n",
    "print(random_image_size_tensor.shape)\n",
    "print(random_image_size_tensor.ndim)"
   ]
  },
  {
   "cell_type": "code",
   "execution_count": 15,
   "id": "c09a02f0",
   "metadata": {},
   "outputs": [
    {
     "name": "stdout",
     "output_type": "stream",
     "text": [
      "tensor([[[[5.4975e-01, 6.9364e-01, 2.0743e-02, 2.2956e-01],\n",
      "          [5.6101e-02, 7.8774e-01, 2.6352e-01, 5.2607e-01],\n",
      "          [9.2504e-01, 9.1078e-01, 9.2369e-01, 1.2914e-01]],\n",
      "\n",
      "         [[4.3663e-01, 7.5399e-01, 9.7135e-01, 5.0436e-01],\n",
      "          [2.6490e-01, 2.8678e-02, 6.1491e-01, 9.6009e-01],\n",
      "          [6.6486e-01, 2.6590e-04, 7.6923e-01, 8.0519e-02]],\n",
      "\n",
      "         [[3.7043e-01, 9.1334e-01, 6.2627e-01, 8.1550e-01],\n",
      "          [2.0133e-01, 4.2213e-01, 8.2822e-01, 8.3108e-01],\n",
      "          [1.3464e-01, 4.6906e-01, 9.9295e-01, 6.8392e-01]],\n",
      "\n",
      "         [[7.8683e-01, 7.0267e-01, 3.9380e-01, 9.1100e-01],\n",
      "          [3.9682e-01, 4.5629e-01, 2.7299e-01, 1.1337e-01],\n",
      "          [2.0751e-01, 4.4558e-01, 3.4721e-01, 3.7741e-01]]]])\n",
      "torch.Size([1, 4, 3, 4])\n"
     ]
    }
   ],
   "source": [
    "random_num = torch.rand(1,4,3,4) # channel batch rows columns\n",
    "print(random_num)\n",
    "print(random_num.shape)"
   ]
  },
  {
   "cell_type": "markdown",
   "id": "20fe6f91",
   "metadata": {},
   "source": [
    "Creating tensor with Zeros and Ones "
   ]
  },
  {
   "cell_type": "code",
   "execution_count": 16,
   "id": "bebc0a4d",
   "metadata": {},
   "outputs": [
    {
     "data": {
      "text/plain": [
       "tensor([[0., 0., 0.],\n",
       "        [0., 0., 0.],\n",
       "        [0., 0., 0.]])"
      ]
     },
     "execution_count": 16,
     "metadata": {},
     "output_type": "execute_result"
    }
   ],
   "source": [
    "#create a tensor of all zeros\n",
    "\n",
    "zeros = torch.zeros(3,3)\n",
    "zeros"
   ]
  },
  {
   "cell_type": "code",
   "execution_count": 17,
   "id": "a512d498",
   "metadata": {},
   "outputs": [
    {
     "data": {
      "text/plain": [
       "tensor([[1., 1., 1.],\n",
       "        [1., 1., 1.],\n",
       "        [1., 1., 1.]])"
      ]
     },
     "execution_count": 17,
     "metadata": {},
     "output_type": "execute_result"
    }
   ],
   "source": [
    "#create a tensor of all ones\n",
    "ones = torch.ones(3,3)\n",
    "ones"
   ]
  },
  {
   "cell_type": "markdown",
   "id": "04aa02ba",
   "metadata": {},
   "source": [
    "creating a range/arange of tensors and tensor-like"
   ]
  },
  {
   "cell_type": "code",
   "execution_count": 18,
   "id": "918f7b7f",
   "metadata": {},
   "outputs": [
    {
     "name": "stdout",
     "output_type": "stream",
     "text": [
      "tensor([0, 1, 2, 3, 4, 5, 6, 7, 8, 9])\n",
      "tensor([0, 3, 6, 9])\n"
     ]
    }
   ],
   "source": [
    "print(torch.arange(0,10)) #similar to python range but returns a tensor\n",
    "print(torch.arange(0,10,3)) #step size of 2"
   ]
  },
  {
   "cell_type": "code",
   "execution_count": 19,
   "id": "56e0030d",
   "metadata": {},
   "outputs": [
    {
     "data": {
      "text/plain": [
       "tensor([  0,  10,  20,  30,  40,  50,  60,  70,  80,  90, 100, 110, 120, 130,\n",
       "        140, 150, 160, 170, 180, 190, 200, 210, 220, 230, 240, 250, 260, 270,\n",
       "        280, 290, 300, 310, 320, 330, 340, 350, 360, 370, 380, 390, 400, 410,\n",
       "        420, 430, 440, 450, 460, 470, 480, 490, 500, 510, 520, 530, 540, 550,\n",
       "        560, 570, 580, 590, 600, 610, 620, 630, 640, 650, 660, 670, 680, 690,\n",
       "        700, 710, 720, 730, 740, 750, 760, 770, 780, 790, 800, 810, 820, 830,\n",
       "        840, 850, 860, 870, 880, 890, 900, 910, 920, 930, 940, 950, 960, 970,\n",
       "        980, 990])"
      ]
     },
     "execution_count": 19,
     "metadata": {},
     "output_type": "execute_result"
    }
   ],
   "source": [
    "random = torch.arange(start = 0, end = 1000, step = 10)\n",
    "random"
   ]
  },
  {
   "cell_type": "code",
   "execution_count": 20,
   "id": "93ef93ed",
   "metadata": {},
   "outputs": [
    {
     "data": {
      "text/plain": [
       "tensor([0, 0, 0, 0, 0, 0, 0, 0, 0, 0, 0, 0, 0, 0, 0, 0, 0, 0, 0, 0, 0, 0, 0, 0,\n",
       "        0, 0, 0, 0, 0, 0, 0, 0, 0, 0, 0, 0, 0, 0, 0, 0, 0, 0, 0, 0, 0, 0, 0, 0,\n",
       "        0, 0, 0, 0, 0, 0, 0, 0, 0, 0, 0, 0, 0, 0, 0, 0, 0, 0, 0, 0, 0, 0, 0, 0,\n",
       "        0, 0, 0, 0, 0, 0, 0, 0, 0, 0, 0, 0, 0, 0, 0, 0, 0, 0, 0, 0, 0, 0, 0, 0,\n",
       "        0, 0, 0, 0])"
      ]
     },
     "execution_count": 20,
     "metadata": {},
     "output_type": "execute_result"
    }
   ],
   "source": [
    "#creatig tensor like\n",
    "tensor_like = torch.zeros_like(random)\n",
    "tensor_like"
   ]
  },
  {
   "cell_type": "markdown",
   "id": "d2ae6908",
   "metadata": {},
   "source": [
    "dealing with tensors data types"
   ]
  },
  {
   "cell_type": "code",
   "execution_count": 21,
   "id": "54fa4d0e",
   "metadata": {},
   "outputs": [
    {
     "name": "stdout",
     "output_type": "stream",
     "text": [
      "tensor([1., 2., 3.])\n",
      "torch.float32\n"
     ]
    }
   ],
   "source": [
    "#float 32 tensor\n",
    "float_32_tesnor = torch.tensor([1.0,2.0,3.0],\n",
    "                               dtype=None, #specify the data type you want your tensor to be\n",
    "                               device=None, #specify the device you want your tensor to be on\n",
    "                               requires_grad=False) #whether to track gradients for this tensor or not\n",
    "print(float_32_tesnor)\n",
    "print(float_32_tesnor.dtype)"
   ]
  },
  {
   "cell_type": "code",
   "execution_count": 22,
   "id": "265c5ddb",
   "metadata": {},
   "outputs": [
    {
     "data": {
      "text/plain": [
       "tensor([1., 2., 3.], dtype=torch.float16)"
      ]
     },
     "execution_count": 22,
     "metadata": {},
     "output_type": "execute_result"
    }
   ],
   "source": [
    "float_16_tensor = float_32_tesnor.type(torch.half)\n",
    "float_16_tensor"
   ]
  },
  {
   "cell_type": "code",
   "execution_count": 23,
   "id": "00bc1bdd",
   "metadata": {},
   "outputs": [
    {
     "data": {
      "text/plain": [
       "tensor([1., 2., 3.], dtype=torch.float64)"
      ]
     },
     "execution_count": 23,
     "metadata": {},
     "output_type": "execute_result"
    }
   ],
   "source": [
    "float_64_tensor = float_32_tesnor.type(torch.double)\n",
    "float_64_tensor"
   ]
  },
  {
   "cell_type": "code",
   "execution_count": 24,
   "id": "60a98675",
   "metadata": {},
   "outputs": [
    {
     "data": {
      "text/plain": [
       "tensor([1., 4., 9.], dtype=torch.float64)"
      ]
     },
     "execution_count": 24,
     "metadata": {},
     "output_type": "execute_result"
    }
   ],
   "source": [
    "float_16_tensor * float_64_tensor"
   ]
  },
  {
   "cell_type": "code",
   "execution_count": 25,
   "id": "0b31f2ba",
   "metadata": {},
   "outputs": [
    {
     "data": {
      "text/plain": [
       "tensor([1, 2, 3], dtype=torch.int32)"
      ]
     },
     "execution_count": 25,
     "metadata": {},
     "output_type": "execute_result"
    }
   ],
   "source": [
    "int_32_tensor = torch.tensor([1,2,3], dtype=torch.int32)\n",
    "int_32_tensor"
   ]
  },
  {
   "cell_type": "code",
   "execution_count": 26,
   "id": "083b0b73",
   "metadata": {},
   "outputs": [
    {
     "data": {
      "text/plain": [
       "tensor([1., 4., 9.])"
      ]
     },
     "execution_count": 26,
     "metadata": {},
     "output_type": "execute_result"
    }
   ],
   "source": [
    "int_32_tensor * float_32_tesnor"
   ]
  },
  {
   "cell_type": "markdown",
   "id": "98cfeefa",
   "metadata": {},
   "source": [
    "Getting info from tensor"
   ]
  },
  {
   "cell_type": "code",
   "execution_count": 27,
   "id": "b317b905",
   "metadata": {},
   "outputs": [
    {
     "name": "stdout",
     "output_type": "stream",
     "text": [
      "tensor([[0.1560, 0.9717, 0.7132, 0.5187],\n",
      "        [0.5309, 0.1674, 0.0892, 0.7375],\n",
      "        [0.7731, 0.1675, 0.8246, 0.5861]])\n",
      "Shape of tensor torch.Size([3, 4])\n",
      "data type of tensor torch.Size([3, 4])\n",
      "device of tensor cpu\n",
      "dimension of tensor 2\n"
     ]
    }
   ],
   "source": [
    "some_tensor = torch.rand(3,4)\n",
    "print(some_tensor)\n",
    "\n",
    "#find out some details abot the given above tensor\n",
    "print(\"Shape of tensor\", some_tensor.shape)\n",
    "print(\"data type of tensor\", some_tensor.shape)\n",
    "print(\"device of tensor\", some_tensor.device)\n",
    "print(\"dimension of tensor\", some_tensor.ndim)"
   ]
  },
  {
   "cell_type": "markdown",
   "id": "03b4326a",
   "metadata": {},
   "source": [
    "Manipulaing Tensors (Tensors Operations)"
   ]
  },
  {
   "cell_type": "code",
   "execution_count": 28,
   "id": "a4c77f8a",
   "metadata": {},
   "outputs": [
    {
     "data": {
      "text/plain": [
       "tensor([101, 102, 103])"
      ]
     },
     "execution_count": 28,
     "metadata": {},
     "output_type": "execute_result"
    }
   ],
   "source": [
    "tensor = torch.tensor([1,2,3])\n",
    "tensor + 100\n"
   ]
  },
  {
   "cell_type": "code",
   "execution_count": 29,
   "id": "78936178",
   "metadata": {},
   "outputs": [
    {
     "data": {
      "text/plain": [
       "tensor([100, 200, 300])"
      ]
     },
     "execution_count": 29,
     "metadata": {},
     "output_type": "execute_result"
    }
   ],
   "source": [
    "#multiply\n",
    "tensor * 100"
   ]
  },
  {
   "cell_type": "code",
   "execution_count": 30,
   "id": "77c88677",
   "metadata": {},
   "outputs": [
    {
     "data": {
      "text/plain": [
       "tensor([-9, -8, -7])"
      ]
     },
     "execution_count": 30,
     "metadata": {},
     "output_type": "execute_result"
    }
   ],
   "source": [
    "#subtract\n",
    "tensor - 10"
   ]
  },
  {
   "cell_type": "markdown",
   "id": "71cd5283",
   "metadata": {},
   "source": [
    "Matrix Multiplication"
   ]
  },
  {
   "cell_type": "code",
   "execution_count": 31,
   "id": "88a55d8f",
   "metadata": {},
   "outputs": [
    {
     "name": "stdout",
     "output_type": "stream",
     "text": [
      "tensor([ 4, 16, 36])\n"
     ]
    }
   ],
   "source": [
    "#element wise multiplication\n",
    "tesnsor = torch.tensor(  [2,4,6])\n",
    "print(tesnsor * tesnsor)"
   ]
  },
  {
   "cell_type": "code",
   "execution_count": 32,
   "id": "96584ae0",
   "metadata": {},
   "outputs": [
    {
     "name": "stdout",
     "output_type": "stream",
     "text": [
      "tensor([ 4, 16, 36])\n"
     ]
    }
   ],
   "source": [
    "#element wise multiplication\n",
    "tesnsor = torch.tensor([2,4,6])\n",
    "print(tesnsor * tesnsor)"
   ]
  },
  {
   "cell_type": "code",
   "execution_count": 33,
   "id": "046f2dbc",
   "metadata": {},
   "outputs": [
    {
     "name": "stdout",
     "output_type": "stream",
     "text": [
      "tensor(56)\n"
     ]
    }
   ],
   "source": [
    "#matrix multiplication\n",
    "print(tesnsor.matmul(tesnsor)) #dot product"
   ]
  },
  {
   "cell_type": "markdown",
   "id": "fe066668",
   "metadata": {},
   "source": [
    "there are two main rule of performing matrix multiplication\n",
    "1. the inner dimension must match \n",
    "(3,2)  @  (3,2) won't work\n",
    "(2,3)  @  (3,2) will work\n",
    "(3,2)  @  (2,3) will work\n",
    "\n",
    "2. the resulting matrix has the shape of the outer dimension\n",
    "   (3,2)  @  (3,2)  -> (2,2)"
   ]
  },
  {
   "cell_type": "code",
   "execution_count": 34,
   "id": "001fa20a",
   "metadata": {},
   "outputs": [],
   "source": [
    "#torch.matmul(torch.rand(3,2), torch.rand(3,2)) #error because shapes are not aligned"
   ]
  },
  {
   "cell_type": "code",
   "execution_count": 35,
   "id": "843a03bb",
   "metadata": {},
   "outputs": [
    {
     "data": {
      "text/plain": [
       "tensor([[0.5795, 0.3018, 0.1096],\n",
       "        [0.8089, 0.9127, 0.7958],\n",
       "        [0.8060, 0.4755, 0.2254]])"
      ]
     },
     "execution_count": 35,
     "metadata": {},
     "output_type": "execute_result"
    }
   ],
   "source": [
    "torch.matmul(torch.rand(3,2), torch.rand(2,3)) #correct shapes"
   ]
  },
  {
   "cell_type": "code",
   "execution_count": 36,
   "id": "1438827e",
   "metadata": {},
   "outputs": [
    {
     "data": {
      "text/plain": [
       "tensor([[1.0109, 1.0591, 1.2222],\n",
       "        [0.3586, 0.6085, 0.4155],\n",
       "        [1.0819, 1.5086, 1.5033]])"
      ]
     },
     "execution_count": 36,
     "metadata": {},
     "output_type": "execute_result"
    }
   ],
   "source": [
    "torch.matmul(torch.rand(3,4),torch.rand(4,3))"
   ]
  },
  {
   "cell_type": "code",
   "execution_count": 37,
   "id": "e70f4bf4",
   "metadata": {},
   "outputs": [
    {
     "name": "stdout",
     "output_type": "stream",
     "text": [
      "tensor([[1.3925, 0.8231, 0.9259, 0.4881, 1.0350, 1.2109],\n",
      "        [1.1179, 0.4135, 0.4667, 0.6475, 0.6474, 0.9818],\n",
      "        [1.2598, 1.0809, 1.1601, 0.1902, 1.1584, 0.9324],\n",
      "        [2.0477, 0.8703, 0.9101, 1.1836, 1.2009, 1.6354],\n",
      "        [1.2940, 0.8311, 0.8332, 0.5459, 0.9078, 0.9030],\n",
      "        [1.7400, 0.7196, 0.7395, 1.0193, 0.9324, 1.4425]])\n"
     ]
    },
    {
     "data": {
      "text/plain": [
       "torch.Size([6, 6])"
      ]
     },
     "execution_count": 37,
     "metadata": {},
     "output_type": "execute_result"
    }
   ],
   "source": [
    "tensor = torch.matmul(torch.rand(6,4),torch.rand(4,6))\n",
    "print(tensor)\n",
    "tensor.shape"
   ]
  },
  {
   "cell_type": "markdown",
   "id": "607f3f57",
   "metadata": {},
   "source": [
    "Dealing wit **Shape Errors**"
   ]
  },
  {
   "cell_type": "code",
   "execution_count": 38,
   "id": "64604c4e",
   "metadata": {},
   "outputs": [],
   "source": [
    "# tensor_a = torch.tensor([[1,2],\n",
    "#                          [3,4],\n",
    "#                          [5,6]])\n",
    "\n",
    "# tensor_b = torch.tensor([[3,6],\n",
    "#                          [9,12],\n",
    "#                          [15,18]])\n",
    "\n",
    "# tesnsor\n",
    "# torch.matmul(tensor_a, tensor_b) #error because shapes are not aligned\n",
    "# #torch.mm(tensor_a, tensor_b) #works same as torch as matmul \n",
    "\n"
   ]
  },
  {
   "cell_type": "markdown",
   "id": "d4b45b60",
   "metadata": {},
   "source": [
    "to fix these tesnor shape error or isues, we can manipulate the shape of one of the tensor using a **Transpose**"
   ]
  },
  {
   "cell_type": "code",
   "execution_count": 39,
   "id": "b0b4afed",
   "metadata": {},
   "outputs": [
    {
     "data": {
      "text/plain": [
       "tensor([[ 15,  33,  51],\n",
       "        [ 33,  75, 117],\n",
       "        [ 51, 117, 183]])"
      ]
     },
     "execution_count": 39,
     "metadata": {},
     "output_type": "execute_result"
    }
   ],
   "source": [
    "tensor_a = torch.tensor([[1,2],\n",
    "                         [3,4],\n",
    "                         [5,6]])\n",
    "\n",
    "tensor_b = torch.tensor([[3,6],\n",
    "                         [9,12],\n",
    "                         [15,18]])\n",
    "\n",
    "tesnsor\n",
    "torch.matmul(tensor_a, tensor_b.T) #transpose switches the axes or the dimensions of the given tensor\n",
    "#torch.mm(tensor_a, tensor_b) #works same as torch as matmul \n",
    "\n"
   ]
  },
  {
   "cell_type": "code",
   "execution_count": 40,
   "id": "2216c9e6",
   "metadata": {},
   "outputs": [
    {
     "name": "stdout",
     "output_type": "stream",
     "text": [
      "tensor([[ 3,  9, 15],\n",
      "        [ 6, 12, 18]])\n"
     ]
    }
   ],
   "source": [
    "print(tensor_b.T)"
   ]
  },
  {
   "cell_type": "markdown",
   "id": "7f9fe0cd",
   "metadata": {},
   "source": [
    "Finding the **Mean** **Max** and **Sum of Tensors** (Tensor Aggregation)"
   ]
  },
  {
   "cell_type": "code",
   "execution_count": 41,
   "id": "114ec496",
   "metadata": {},
   "outputs": [
    {
     "name": "stdout",
     "output_type": "stream",
     "text": [
      "tensor([ 1, 11, 21, 31, 41, 51, 61, 71, 81, 91])\n"
     ]
    },
    {
     "data": {
      "text/plain": [
       "torch.int64"
      ]
     },
     "execution_count": 41,
     "metadata": {},
     "output_type": "execute_result"
    }
   ],
   "source": [
    "x = torch.arange(1,100, 10)\n",
    "print(x)\n",
    "x.dtype"
   ]
  },
  {
   "cell_type": "code",
   "execution_count": 42,
   "id": "01b1390e",
   "metadata": {},
   "outputs": [
    {
     "data": {
      "text/plain": [
       "tensor(1)"
      ]
     },
     "execution_count": 42,
     "metadata": {},
     "output_type": "execute_result"
    }
   ],
   "source": [
    "x.min() #minimum value of the tensor"
   ]
  },
  {
   "cell_type": "code",
   "execution_count": 43,
   "id": "0624725e",
   "metadata": {},
   "outputs": [
    {
     "data": {
      "text/plain": [
       "tensor(91)"
      ]
     },
     "execution_count": 43,
     "metadata": {},
     "output_type": "execute_result"
    }
   ],
   "source": [
    "x.max() #maximum value of the tensor"
   ]
  },
  {
   "cell_type": "code",
   "execution_count": 44,
   "id": "578dc0ef",
   "metadata": {},
   "outputs": [
    {
     "data": {
      "text/plain": [
       "tensor(46.)"
      ]
     },
     "execution_count": 44,
     "metadata": {},
     "output_type": "execute_result"
    }
   ],
   "source": [
    "#the torch.mean() function only works on float tensors not with int(it will throw an error)\n",
    "torch.mean(x.type(torch.float32)) #mean value of the tensor"
   ]
  },
  {
   "cell_type": "code",
   "execution_count": 45,
   "id": "36929fed",
   "metadata": {},
   "outputs": [
    {
     "data": {
      "text/plain": [
       "(tensor(460), tensor(460))"
      ]
     },
     "execution_count": 45,
     "metadata": {},
     "output_type": "execute_result"
    }
   ],
   "source": [
    "torch.sum(x), x.sum() #sum of all the values of the tensor"
   ]
  },
  {
   "cell_type": "markdown",
   "id": "bb1d5013",
   "metadata": {},
   "source": [
    "Finding the **Positional Min and Max** of tensors"
   ]
  },
  {
   "cell_type": "code",
   "execution_count": 46,
   "id": "eba20cfc",
   "metadata": {},
   "outputs": [
    {
     "name": "stdout",
     "output_type": "stream",
     "text": [
      "tensor(0)\n",
      "tensor(9)\n"
     ]
    }
   ],
   "source": [
    "#finding the positional miin and max\n",
    "x\n",
    "print(x.argmin()) #argmin returns the index of the minimum value in the tensor\n",
    "print(x.argmax()) #argmax returns the index of the maximum value in the tensor"
   ]
  },
  {
   "cell_type": "markdown",
   "id": "5c2ec9e4",
   "metadata": {},
   "source": [
    "**Reshaping Viewing and Stacking  Squeezing Unsqueezing Tensors**\n",
    "1. Reshaping - reshapes and imnput tensors to a defined shape\n",
    "2. View - return a view of an input tensor of certain shape but keep the memory as the original tensor\n",
    "3. Stacking - combine multiple tensors on top of each other (vstack) or side by side (hstack)\n",
    "4. Sqeeze - rempves all `1` dimension forn a tensor\n",
    "5. Unsqueeze - add a `1` dimension to a target tensor\n",
    "6. Permute - return a view if the input with dimension permuted in a certain way"
   ]
  },
  {
   "cell_type": "code",
   "execution_count": 47,
   "id": "cf8943fe",
   "metadata": {},
   "outputs": [
    {
     "data": {
      "text/plain": [
       "(tensor([1., 2., 3., 4., 5., 6., 7., 8., 9.]), torch.Size([9]))"
      ]
     },
     "execution_count": 47,
     "metadata": {},
     "output_type": "execute_result"
    }
   ],
   "source": [
    "y = torch.arange(1., 10.)\n",
    "y, y.shape"
   ]
  },
  {
   "cell_type": "code",
   "execution_count": 48,
   "id": "e82654f4",
   "metadata": {},
   "outputs": [
    {
     "data": {
      "text/plain": [
       "(tensor([[1.],\n",
       "         [2.],\n",
       "         [3.],\n",
       "         [4.],\n",
       "         [5.],\n",
       "         [6.],\n",
       "         [7.],\n",
       "         [8.],\n",
       "         [9.]]),\n",
       " torch.Size([9, 1]))"
      ]
     },
     "execution_count": 48,
     "metadata": {},
     "output_type": "execute_result"
    }
   ],
   "source": [
    "y_reshaped_1 = y.reshape(9,1)\n",
    "y_reshaped_1, y_reshaped_1.shape"
   ]
  },
  {
   "cell_type": "code",
   "execution_count": 49,
   "id": "653faf91",
   "metadata": {},
   "outputs": [
    {
     "data": {
      "text/plain": [
       "(tensor([[1., 2., 3.],\n",
       "         [4., 5., 6.],\n",
       "         [7., 8., 9.]]),\n",
       " torch.Size([3, 3]))"
      ]
     },
     "execution_count": 49,
     "metadata": {},
     "output_type": "execute_result"
    }
   ],
   "source": [
    "#add an extra dimension\n",
    "y_reshaped = y.reshape(3,3)\n",
    "y_reshaped_1 = y.reshape(9,1)\n",
    "y_reshaped, y_reshaped.shape"
   ]
  },
  {
   "cell_type": "code",
   "execution_count": 50,
   "id": "ce781e9e",
   "metadata": {},
   "outputs": [
    {
     "data": {
      "text/plain": [
       "(tensor([[1., 2., 3., 4., 5., 6., 7., 8., 9.]]), torch.Size([1, 9]))"
      ]
     },
     "execution_count": 50,
     "metadata": {},
     "output_type": "execute_result"
    }
   ],
   "source": [
    "#change the view\n",
    "\"\"\"changing z changes x because a view is just a different way of looking at the same data,or share the same memory as the original tensor\"\"\"\n",
    "z = y.view(1,9)\n",
    "z, z.shape"
   ]
  },
  {
   "cell_type": "code",
   "execution_count": 51,
   "id": "a41b8041",
   "metadata": {},
   "outputs": [
    {
     "data": {
      "text/plain": [
       "(tensor([[1., 2., 3., 4., 5., 6., 7., 8., 9.],\n",
       "         [1., 2., 3., 4., 5., 6., 7., 8., 9.],\n",
       "         [1., 2., 3., 4., 5., 6., 7., 8., 9.],\n",
       "         [1., 2., 3., 4., 5., 6., 7., 8., 9.]]),\n",
       " torch.Size([4, 9]))"
      ]
     },
     "execution_count": 51,
     "metadata": {},
     "output_type": "execute_result"
    }
   ],
   "source": [
    "#stack tensor on top of each other\n",
    "y_stacked = torch.stack([y,y,y,y],dim=0) #dim=0 means stack along the rows\n",
    "y_stacked, y_stacked.shape  "
   ]
  },
  {
   "cell_type": "code",
   "execution_count": 52,
   "id": "f8b10d1d",
   "metadata": {},
   "outputs": [
    {
     "data": {
      "text/plain": [
       "(tensor([[1., 1., 1., 1.],\n",
       "         [2., 2., 2., 2.],\n",
       "         [3., 3., 3., 3.],\n",
       "         [4., 4., 4., 4.],\n",
       "         [5., 5., 5., 5.],\n",
       "         [6., 6., 6., 6.],\n",
       "         [7., 7., 7., 7.],\n",
       "         [8., 8., 8., 8.],\n",
       "         [9., 9., 9., 9.]]),\n",
       " torch.Size([9, 4]))"
      ]
     },
     "execution_count": 52,
     "metadata": {},
     "output_type": "execute_result"
    }
   ],
   "source": [
    "#stack tensor on top of each other\n",
    "y_stacked = torch.stack([y,y,y,y],dim=1) #dim=1 means stack along the columns\n",
    "y_stacked, y_stacked.shape  "
   ]
  },
  {
   "cell_type": "code",
   "execution_count": 53,
   "id": "dbea3049",
   "metadata": {},
   "outputs": [
    {
     "data": {
      "text/plain": [
       "tensor([[1., 2., 3.],\n",
       "        [4., 5., 6.],\n",
       "        [7., 8., 9.]])"
      ]
     },
     "execution_count": 53,
     "metadata": {},
     "output_type": "execute_result"
    }
   ],
   "source": [
    "y_reshaped.squeeze()"
   ]
  },
  {
   "cell_type": "code",
   "execution_count": 54,
   "id": "e71b1aa6",
   "metadata": {},
   "outputs": [
    {
     "data": {
      "text/plain": [
       "(tensor([1., 2., 3., 4., 5., 6., 7., 8., 9.]), torch.Size([9]))"
      ]
     },
     "execution_count": 54,
     "metadata": {},
     "output_type": "execute_result"
    }
   ],
   "source": [
    "#squeeze and unsqueeze\n",
    "y_squeeze = torch.squeeze(y_reshaped_1) #removes all the dimensions of size 1\n",
    "y_squeeze, y_squeeze.shape"
   ]
  },
  {
   "cell_type": "code",
   "execution_count": 55,
   "id": "2306e71e",
   "metadata": {},
   "outputs": [
    {
     "data": {
      "text/plain": [
       "(tensor([[1., 2., 3., 4., 5., 6., 7., 8., 9.]]), torch.Size([1, 9]))"
      ]
     },
     "execution_count": 55,
     "metadata": {},
     "output_type": "execute_result"
    }
   ],
   "source": [
    "y_unsqueezed = torch.unsqueeze(y_squeeze, dim=0) #adds a dimension of size 1 at the specified position\n",
    "y_unsqueezed, y_unsqueezed.shape"
   ]
  },
  {
   "cell_type": "code",
   "execution_count": 56,
   "id": "a0f36ab4",
   "metadata": {},
   "outputs": [
    {
     "data": {
      "text/plain": [
       "(torch.Size([3, 224, 224]),\n",
       " tensor([[[9.0769e-01, 2.6371e-01, 2.8564e-01,  ..., 7.1123e-01,\n",
       "           8.1778e-04, 4.6461e-01],\n",
       "          [8.1116e-01, 7.6732e-01, 9.5911e-01,  ..., 2.8891e-01,\n",
       "           5.8258e-01, 4.3294e-01],\n",
       "          [4.7790e-01, 8.5404e-01, 3.9105e-01,  ..., 7.7019e-03,\n",
       "           4.5331e-01, 4.0813e-01],\n",
       "          ...,\n",
       "          [8.6020e-01, 3.8983e-01, 5.7262e-01,  ..., 4.1219e-01,\n",
       "           2.4104e-01, 3.2560e-01],\n",
       "          [1.1934e-01, 9.0965e-01, 6.0113e-01,  ..., 7.5867e-01,\n",
       "           2.0564e-01, 7.9822e-01],\n",
       "          [6.5335e-01, 7.2561e-01, 2.6666e-01,  ..., 7.0930e-01,\n",
       "           6.0894e-01, 8.4740e-01]],\n",
       " \n",
       "         [[5.5251e-01, 2.4212e-01, 7.2077e-01,  ..., 1.6470e-02,\n",
       "           3.9369e-01, 6.3257e-01],\n",
       "          [4.1580e-01, 8.8997e-01, 8.2728e-01,  ..., 7.7531e-02,\n",
       "           1.8216e-01, 8.9414e-02],\n",
       "          [6.0461e-01, 6.8439e-01, 1.8262e-01,  ..., 4.7748e-01,\n",
       "           1.4453e-01, 4.0962e-01],\n",
       "          ...,\n",
       "          [6.9433e-01, 4.0218e-01, 8.2895e-01,  ..., 4.2324e-01,\n",
       "           2.3758e-01, 4.4026e-01],\n",
       "          [4.3860e-01, 5.7651e-01, 9.4615e-01,  ..., 9.7020e-01,\n",
       "           1.2248e-01, 2.4271e-01],\n",
       "          [6.3789e-02, 5.4807e-01, 4.8818e-01,  ..., 5.5277e-01,\n",
       "           9.9826e-02, 4.5437e-01]],\n",
       " \n",
       "         [[1.8886e-01, 3.3743e-01, 1.8979e-01,  ..., 9.4794e-01,\n",
       "           5.4564e-01, 3.0468e-01],\n",
       "          [1.8496e-01, 9.9192e-01, 1.1766e-01,  ..., 4.6170e-01,\n",
       "           8.3907e-01, 3.3552e-01],\n",
       "          [5.5328e-01, 1.6724e-01, 8.0334e-01,  ..., 4.8873e-01,\n",
       "           1.3948e-01, 9.1344e-01],\n",
       "          ...,\n",
       "          [1.4680e-01, 7.4016e-02, 5.1124e-01,  ..., 4.0511e-01,\n",
       "           7.4142e-02, 6.7750e-01],\n",
       "          [3.6746e-01, 7.3016e-01, 6.7326e-01,  ..., 1.2697e-01,\n",
       "           2.9894e-01, 9.2125e-01],\n",
       "          [2.8103e-01, 6.3923e-01, 6.2950e-01,  ..., 7.4989e-01,\n",
       "           7.1355e-01, 4.0202e-01]]]))"
      ]
     },
     "execution_count": 56,
     "metadata": {},
     "output_type": "execute_result"
    }
   ],
   "source": [
    "#permute rearanges the dimension of target tensor in a specified order\n",
    "x_original = torch.rand(224,224,3)\n",
    "x_original.shape\n",
    "#permute the original tensor to change the order of dimensions\n",
    "x_permuted = x_original.permute(2,0,1) #from (height, width, color channels) to (color channels, height, width)\n",
    "x_permuted.shape, x_permuted"
   ]
  },
  {
   "cell_type": "markdown",
   "id": "015949d4",
   "metadata": {},
   "source": [
    "**Indexing**"
   ]
  },
  {
   "cell_type": "code",
   "execution_count": 57,
   "id": "810281be",
   "metadata": {},
   "outputs": [
    {
     "data": {
      "text/plain": [
       "tensor([[[1., 2., 3.],\n",
       "         [4., 5., 6.],\n",
       "         [7., 8., 9.]]])"
      ]
     },
     "execution_count": 57,
     "metadata": {},
     "output_type": "execute_result"
    }
   ],
   "source": [
    "x = torch.arange(1.,10.).reshape(1,3,3)\n",
    "x"
   ]
  },
  {
   "cell_type": "code",
   "execution_count": 58,
   "id": "9fd9f80c",
   "metadata": {},
   "outputs": [
    {
     "data": {
      "text/plain": [
       "tensor([[1., 2., 3.],\n",
       "        [4., 5., 6.],\n",
       "        [7., 8., 9.]])"
      ]
     },
     "execution_count": 58,
     "metadata": {},
     "output_type": "execute_result"
    }
   ],
   "source": [
    "x[0] #first 2D matrix"
   ]
  },
  {
   "cell_type": "code",
   "execution_count": 59,
   "id": "bb069a85",
   "metadata": {},
   "outputs": [
    {
     "data": {
      "text/plain": [
       "tensor([1., 2., 3.])"
      ]
     },
     "execution_count": 59,
     "metadata": {},
     "output_type": "execute_result"
    }
   ],
   "source": [
    "x[0][0] #first row of first 2D matrix"
   ]
  },
  {
   "cell_type": "code",
   "execution_count": 60,
   "id": "a7baa8eb",
   "metadata": {},
   "outputs": [
    {
     "data": {
      "text/plain": [
       "tensor([4., 5., 6.])"
      ]
     },
     "execution_count": 60,
     "metadata": {},
     "output_type": "execute_result"
    }
   ],
   "source": [
    "x[0][1] #second row of first 2D matrix"
   ]
  },
  {
   "cell_type": "code",
   "execution_count": 61,
   "id": "1f9af32d",
   "metadata": {},
   "outputs": [
    {
     "data": {
      "text/plain": [
       "tensor(3.)"
      ]
     },
     "execution_count": 61,
     "metadata": {},
     "output_type": "execute_result"
    }
   ],
   "source": [
    "x[0][0][2]"
   ]
  },
  {
   "cell_type": "code",
   "execution_count": 62,
   "id": "8aa5739a",
   "metadata": {},
   "outputs": [
    {
     "data": {
      "text/plain": [
       "tensor(6.)"
      ]
     },
     "execution_count": 62,
     "metadata": {},
     "output_type": "execute_result"
    }
   ],
   "source": [
    "x[0][1][2]"
   ]
  },
  {
   "cell_type": "code",
   "execution_count": 63,
   "id": "5fc62482",
   "metadata": {},
   "outputs": [
    {
     "data": {
      "text/plain": [
       "tensor(9.)"
      ]
     },
     "execution_count": 63,
     "metadata": {},
     "output_type": "execute_result"
    }
   ],
   "source": [
    "x[0][2][2]"
   ]
  }
 ],
 "metadata": {
  "kernelspec": {
   "display_name": "venv",
   "language": "python",
   "name": "python3"
  },
  "language_info": {
   "codemirror_mode": {
    "name": "ipython",
    "version": 3
   },
   "file_extension": ".py",
   "mimetype": "text/x-python",
   "name": "python",
   "nbconvert_exporter": "python",
   "pygments_lexer": "ipython3",
   "version": "3.11.9"
  }
 },
 "nbformat": 4,
 "nbformat_minor": 5
}
