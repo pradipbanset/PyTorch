{
 "cells": [
  {
   "cell_type": "code",
   "execution_count": null,
   "id": "d44c83e2",
   "metadata": {},
   "outputs": [
    {
     "name": "stdout",
     "output_type": "stream",
     "text": [
      "2.8.0\n"
     ]
    }
   ],
   "source": [
    "import torch\n",
    "import pandas as pd\n",
    "import numpy as np \n",
    "import matplotlib.pyplot as plt \n",
    "# print(torch.__version__)"
   ]
  },
  {
   "cell_type": "markdown",
   "id": "cd2befaa",
   "metadata": {},
   "source": [
    "creating tensors"
   ]
  },
  {
   "cell_type": "code",
   "execution_count": 3,
   "id": "f95623ea",
   "metadata": {},
   "outputs": [
    {
     "data": {
      "text/plain": [
       "tensor(7)"
      ]
     },
     "execution_count": 3,
     "metadata": {},
     "output_type": "execute_result"
    }
   ],
   "source": [
    "#scalar\n",
    "scalars = torch.tensor(7)\n",
    "scalars"
   ]
  },
  {
   "cell_type": "code",
   "execution_count": 9,
   "id": "a8d8b190",
   "metadata": {},
   "outputs": [
    {
     "name": "stdout",
     "output_type": "stream",
     "text": [
      "dimension 0\n",
      "normal value of tensor 7\n",
      "datatype torch.int64\n",
      "shape of the tensor torch.Size([])\n"
     ]
    }
   ],
   "source": [
    "print(\"dimension\",scalars.ndim) #number of dimensions\n",
    "print(\"normal value of tensor\", scalars.item()) #get the value of a scalar tensor as a standard Python number\n",
    "print(\"datatype\", scalars.dtype) #data type of the tensor\n",
    "print(\"shape of the tensor\", scalars.shape) #shape of the tensor"
   ]
  },
  {
   "cell_type": "code",
   "execution_count": null,
   "id": "bf6b3232",
   "metadata": {},
   "outputs": [
    {
     "data": {
      "text/plain": [
       "1"
      ]
     },
     "execution_count": 12,
     "metadata": {},
     "output_type": "execute_result"
    }
   ],
   "source": [
    "#Vectors\n",
    "vectors = torch.tensor([1,0])\n",
    "vectors"
   ]
  },
  {
   "cell_type": "code",
   "execution_count": 13,
   "id": "f6757315",
   "metadata": {},
   "outputs": [
    {
     "name": "stdout",
     "output_type": "stream",
     "text": [
      "1\n",
      "torch.Size([2])\n",
      "torch.int64\n"
     ]
    }
   ],
   "source": [
    "print(vectors.ndim)\n",
    "print(vectors.shape)\n",
    "print(vectors.dtype)"
   ]
  },
  {
   "cell_type": "code",
   "execution_count": 19,
   "id": "5a57eab7",
   "metadata": {},
   "outputs": [
    {
     "name": "stdout",
     "output_type": "stream",
     "text": [
      "tensor([[1, 0],\n",
      "        [0, 1]])\n",
      "dimension 2\n"
     ]
    }
   ],
   "source": [
    "#Matrix\n",
    "matrix = torch.tensor([[1,0],[0,1]])\n",
    "print(matrix)\n",
    "print(\"dimension\", matrix.ndim)"
   ]
  },
  {
   "cell_type": "code",
   "execution_count": null,
   "id": "65908f33",
   "metadata": {},
   "outputs": [
    {
     "data": {
      "text/plain": [
       "torch.Size([2, 2])"
      ]
     },
     "execution_count": 20,
     "metadata": {},
     "output_type": "execute_result"
    }
   ],
   "source": [
    "matrix.shape #umm 2 * 2 matrix"
   ]
  },
  {
   "cell_type": "code",
   "execution_count": 29,
   "id": "caabd906",
   "metadata": {},
   "outputs": [
    {
     "data": {
      "text/plain": [
       "tensor([0, 1])"
      ]
     },
     "execution_count": 29,
     "metadata": {},
     "output_type": "execute_result"
    }
   ],
   "source": [
    "matrix[0] #first row\n",
    "matrix[1] #second row"
   ]
  },
  {
   "cell_type": "code",
   "execution_count": 31,
   "id": "e5731601",
   "metadata": {},
   "outputs": [
    {
     "name": "stdout",
     "output_type": "stream",
     "text": [
      "tensor([[[1, 2, 3],\n",
      "         [4, 5, 6],\n",
      "         [7, 8, 9]]])\n",
      "dimension 3\n",
      "shape torch.Size([1, 3, 3])\n"
     ]
    }
   ],
   "source": [
    "TENSOR = torch.tensor([[[1,2,3],\n",
    "                        [4,5,6],\n",
    "                        [7,8,9]]])\n",
    "print(TENSOR)\n",
    "print(\"dimension\", TENSOR.ndim)\n",
    "print(\"shape\", TENSOR.shape)"
   ]
  },
  {
   "cell_type": "code",
   "execution_count": 32,
   "id": "f4e63f92",
   "metadata": {},
   "outputs": [
    {
     "name": "stdout",
     "output_type": "stream",
     "text": [
      "shape torch.Size([1, 3, 3])\n"
     ]
    }
   ],
   "source": [
    "print(\"shape\", TENSOR.shape)"
   ]
  },
  {
   "cell_type": "code",
   "execution_count": 33,
   "id": "2361d04e",
   "metadata": {},
   "outputs": [
    {
     "data": {
      "text/plain": [
       "tensor([[1, 2, 3],\n",
       "        [4, 5, 6],\n",
       "        [7, 8, 9]])"
      ]
     },
     "execution_count": 33,
     "metadata": {},
     "output_type": "execute_result"
    }
   ],
   "source": [
    "TENSOR[0] #first 2D matrix"
   ]
  },
  {
   "cell_type": "code",
   "execution_count": 34,
   "id": "4f389fef",
   "metadata": {},
   "outputs": [
    {
     "data": {
      "text/plain": [
       "tensor([1, 2, 3])"
      ]
     },
     "execution_count": 34,
     "metadata": {},
     "output_type": "execute_result"
    }
   ],
   "source": [
    "TENSOR[0][0] #first row of first 2D matrix"
   ]
  },
  {
   "cell_type": "markdown",
   "id": "59acac2e",
   "metadata": {},
   "source": [
    "Creating Randon Tensors "
   ]
  },
  {
   "cell_type": "code",
   "execution_count": 38,
   "id": "f204959d",
   "metadata": {},
   "outputs": [
    {
     "name": "stdout",
     "output_type": "stream",
     "text": [
      "tensor([[0.4363, 0.4196, 0.0376, 0.1614],\n",
      "        [0.9416, 0.2150, 0.8206, 0.7284],\n",
      "        [0.4093, 0.0779, 0.3763, 0.3635]])\n",
      "dimension 2\n"
     ]
    }
   ],
   "source": [
    "random_tensor = torch.rand(3,4) #Creates a tensor with shape (3, 4)3 rows 4 columns  filled with random numbers from a uniform distribution over [0, 1)\n",
    "print(random_tensor)\n",
    "print(\"dimension\", random_tensor.ndim)"
   ]
  },
  {
   "cell_type": "code",
   "execution_count": 42,
   "id": "f0362b9f",
   "metadata": {},
   "outputs": [
    {
     "name": "stdout",
     "output_type": "stream",
     "text": [
      "torch.Size([244, 244, 3])\n",
      "torch.Size([244, 244, 3])\n",
      "3\n"
     ]
    }
   ],
   "source": [
    "#create a random with similar shape to an image tensor\n",
    "\n",
    "random_image_size_tensor = torch.rand(size=(244,244,3)) #height, width, color channels(RGB)\n",
    "print(random_image_size_tensor.shape)\n",
    "print(random_image_size_tensor.shape)\n",
    "print(random_image_size_tensor.ndim)"
   ]
  },
  {
   "cell_type": "code",
   "execution_count": 47,
   "id": "c09a02f0",
   "metadata": {},
   "outputs": [
    {
     "name": "stdout",
     "output_type": "stream",
     "text": [
      "tensor([[[[0.1037, 0.5414, 0.1511, 0.1313],\n",
      "          [0.1206, 0.2040, 0.6620, 0.6104],\n",
      "          [0.5223, 0.7968, 0.4391, 0.7022]],\n",
      "\n",
      "         [[0.8259, 0.0052, 0.1819, 0.2015],\n",
      "          [0.9128, 0.2889, 0.2896, 0.6180],\n",
      "          [0.6398, 0.4745, 0.1272, 0.8014]],\n",
      "\n",
      "         [[0.5819, 0.7265, 0.5156, 0.3152],\n",
      "          [0.4400, 0.4418, 0.7635, 0.2758],\n",
      "          [0.4582, 0.6198, 0.7537, 0.8674]],\n",
      "\n",
      "         [[0.1748, 0.0122, 0.7195, 0.9825],\n",
      "          [0.1945, 0.1436, 0.5474, 0.0481],\n",
      "          [0.7423, 0.6362, 0.2607, 0.6865]]]])\n",
      "torch.Size([1, 4, 3, 4])\n"
     ]
    }
   ],
   "source": [
    "random_num = torch.rand(1,4,3,4) # channel batch rows columns\n",
    "print(random_num)\n",
    "print(random_num.shape)"
   ]
  },
  {
   "cell_type": "markdown",
   "id": "20fe6f91",
   "metadata": {},
   "source": [
    "Creating tensor with Zeros and Ones "
   ]
  },
  {
   "cell_type": "code",
   "execution_count": 50,
   "id": "bebc0a4d",
   "metadata": {},
   "outputs": [
    {
     "data": {
      "text/plain": [
       "tensor([[0., 0., 0.],\n",
       "        [0., 0., 0.],\n",
       "        [0., 0., 0.]])"
      ]
     },
     "execution_count": 50,
     "metadata": {},
     "output_type": "execute_result"
    }
   ],
   "source": [
    "#create a tensor of all zeros\n",
    "\n",
    "zeros = torch.zeros(3,3)\n",
    "zeros"
   ]
  },
  {
   "cell_type": "code",
   "execution_count": 51,
   "id": "a512d498",
   "metadata": {},
   "outputs": [
    {
     "data": {
      "text/plain": [
       "tensor([[1., 1., 1.],\n",
       "        [1., 1., 1.],\n",
       "        [1., 1., 1.]])"
      ]
     },
     "execution_count": 51,
     "metadata": {},
     "output_type": "execute_result"
    }
   ],
   "source": [
    "#create a tensor of all ones\n",
    "ones = torch.ones(3,3)\n",
    "ones"
   ]
  },
  {
   "cell_type": "markdown",
   "id": "04aa02ba",
   "metadata": {},
   "source": [
    "creating a range/arange of tensors and tensor-like"
   ]
  },
  {
   "cell_type": "code",
   "execution_count": 54,
   "id": "918f7b7f",
   "metadata": {},
   "outputs": [
    {
     "name": "stdout",
     "output_type": "stream",
     "text": [
      "tensor([0, 1, 2, 3, 4, 5, 6, 7, 8, 9])\n",
      "tensor([0, 3, 6, 9])\n"
     ]
    }
   ],
   "source": [
    "print(torch.arange(0,10)) #similar to python range but returns a tensor\n",
    "print(torch.arange(0,10,3)) #step size of 2"
   ]
  },
  {
   "cell_type": "code",
   "execution_count": 57,
   "id": "56e0030d",
   "metadata": {},
   "outputs": [
    {
     "data": {
      "text/plain": [
       "tensor([  0,  10,  20,  30,  40,  50,  60,  70,  80,  90, 100, 110, 120, 130,\n",
       "        140, 150, 160, 170, 180, 190, 200, 210, 220, 230, 240, 250, 260, 270,\n",
       "        280, 290, 300, 310, 320, 330, 340, 350, 360, 370, 380, 390, 400, 410,\n",
       "        420, 430, 440, 450, 460, 470, 480, 490, 500, 510, 520, 530, 540, 550,\n",
       "        560, 570, 580, 590, 600, 610, 620, 630, 640, 650, 660, 670, 680, 690,\n",
       "        700, 710, 720, 730, 740, 750, 760, 770, 780, 790, 800, 810, 820, 830,\n",
       "        840, 850, 860, 870, 880, 890, 900, 910, 920, 930, 940, 950, 960, 970,\n",
       "        980, 990])"
      ]
     },
     "execution_count": 57,
     "metadata": {},
     "output_type": "execute_result"
    }
   ],
   "source": [
    "random = torch.arange(start = 0, end = 1000, step = 10)\n",
    "random"
   ]
  },
  {
   "cell_type": "code",
   "execution_count": 62,
   "id": "93ef93ed",
   "metadata": {},
   "outputs": [
    {
     "data": {
      "text/plain": [
       "tensor([0, 0, 0, 0, 0, 0, 0, 0, 0, 0, 0, 0, 0, 0, 0, 0, 0, 0, 0, 0, 0, 0, 0, 0,\n",
       "        0, 0, 0, 0, 0, 0, 0, 0, 0, 0, 0, 0, 0, 0, 0, 0, 0, 0, 0, 0, 0, 0, 0, 0,\n",
       "        0, 0, 0, 0, 0, 0, 0, 0, 0, 0, 0, 0, 0, 0, 0, 0, 0, 0, 0, 0, 0, 0, 0, 0,\n",
       "        0, 0, 0, 0, 0, 0, 0, 0, 0, 0, 0, 0, 0, 0, 0, 0, 0, 0, 0, 0, 0, 0, 0, 0,\n",
       "        0, 0, 0, 0])"
      ]
     },
     "execution_count": 62,
     "metadata": {},
     "output_type": "execute_result"
    }
   ],
   "source": [
    "#creatig tensor like\n",
    "tensor_like = torch.zeros_like(random)\n",
    "tensor_like"
   ]
  },
  {
   "cell_type": "markdown",
   "id": "d2ae6908",
   "metadata": {},
   "source": [
    "dealing with tensors data types"
   ]
  },
  {
   "cell_type": "code",
   "execution_count": null,
   "id": "54fa4d0e",
   "metadata": {},
   "outputs": [
    {
     "name": "stdout",
     "output_type": "stream",
     "text": [
      "tensor([1., 2., 3.])\n",
      "torch.float32\n"
     ]
    }
   ],
   "source": [
    "#float 32 tensor\n",
    "float_32_tesnor = torch.tensor([1.0,2.0,3.0],\n",
    "                               dtype=None, #specify the data type you want your tensor to be\n",
    "                               device=None, #specify the device you want your tensor to be on\n",
    "                               requires_grad=False) #whether to track gradients for this tensor or not\n",
    "print(float_32_tesnor)\n",
    "print(float_32_tesnor.dtype)"
   ]
  },
  {
   "cell_type": "code",
   "execution_count": 65,
   "id": "265c5ddb",
   "metadata": {},
   "outputs": [
    {
     "data": {
      "text/plain": [
       "tensor([1., 2., 3.], dtype=torch.float16)"
      ]
     },
     "execution_count": 65,
     "metadata": {},
     "output_type": "execute_result"
    }
   ],
   "source": [
    "float_16_tensor = float_32_tesnor.type(torch.half)\n",
    "float_16_tensor"
   ]
  },
  {
   "cell_type": "code",
   "execution_count": 66,
   "id": "00bc1bdd",
   "metadata": {},
   "outputs": [
    {
     "data": {
      "text/plain": [
       "tensor([1., 2., 3.], dtype=torch.float64)"
      ]
     },
     "execution_count": 66,
     "metadata": {},
     "output_type": "execute_result"
    }
   ],
   "source": [
    "float_64_tensor = float_32_tesnor.type(torch.double)\n",
    "float_64_tensor"
   ]
  }
 ],
 "metadata": {
  "kernelspec": {
   "display_name": "venv",
   "language": "python",
   "name": "python3"
  },
  "language_info": {
   "codemirror_mode": {
    "name": "ipython",
    "version": 3
   },
   "file_extension": ".py",
   "mimetype": "text/x-python",
   "name": "python",
   "nbconvert_exporter": "python",
   "pygments_lexer": "ipython3",
   "version": "3.11.9"
  }
 },
 "nbformat": 4,
 "nbformat_minor": 5
}
